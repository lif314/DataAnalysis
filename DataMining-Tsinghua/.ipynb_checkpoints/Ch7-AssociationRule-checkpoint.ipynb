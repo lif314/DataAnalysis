{
 "cells": [
  {
   "cell_type": "markdown",
   "id": "87760a22",
   "metadata": {},
   "source": [
    "# <center> Ch7 Association Rule </center>"
   ]
  },
  {
   "cell_type": "markdown",
   "id": "3da6e03d",
   "metadata": {},
   "source": [
    "## Frequent Itemsets（频繁集）"
   ]
  },
  {
   "cell_type": "markdown",
   "id": "eb19c9e4",
   "metadata": {},
   "source": [
    "- 啤酒与尿布\n",
    "- 购书推荐\n",
    "    - 买的这本书的其它人也买了xx书 [Frequent Itemsets]\n",
    "    - 买了一本书的人会买另一本书 [Association Rule]"
   ]
  },
  {
   "cell_type": "markdown",
   "id": "b84c8045",
   "metadata": {},
   "source": []
  },
  {
   "cell_type": "markdown",
   "id": "b5a5f0f8",
   "metadata": {},
   "source": []
  },
  {
   "cell_type": "markdown",
   "id": "4ec9c3f2",
   "metadata": {},
   "source": []
  },
  {
   "cell_type": "markdown",
   "id": "9e2a34b1",
   "metadata": {},
   "source": [
    "## Association Rules 规则集"
   ]
  },
  {
   "cell_type": "markdown",
   "id": "18f21d73",
   "metadata": {},
   "source": []
  },
  {
   "cell_type": "markdown",
   "id": "c8c66e16",
   "metadata": {},
   "source": []
  },
  {
   "cell_type": "markdown",
   "id": "a3805c6e",
   "metadata": {},
   "source": []
  },
  {
   "cell_type": "markdown",
   "id": "a85985a2",
   "metadata": {},
   "source": [
    "## Sequential Patterns"
   ]
  },
  {
   "cell_type": "markdown",
   "id": "d59f422e",
   "metadata": {},
   "source": []
  }
 ],
 "metadata": {
  "kernelspec": {
   "display_name": "Python 3 (ipykernel)",
   "language": "python",
   "name": "python3"
  },
  "language_info": {
   "codemirror_mode": {
    "name": "ipython",
    "version": 3
   },
   "file_extension": ".py",
   "mimetype": "text/x-python",
   "name": "python",
   "nbconvert_exporter": "python",
   "pygments_lexer": "ipython3",
   "version": "3.7.11"
  }
 },
 "nbformat": 4,
 "nbformat_minor": 5
}
