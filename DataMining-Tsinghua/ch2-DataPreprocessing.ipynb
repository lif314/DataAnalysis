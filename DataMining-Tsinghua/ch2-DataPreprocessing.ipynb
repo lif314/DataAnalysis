{
 "cells": [
  {
   "cell_type": "markdown",
   "id": "28f2135c",
   "metadata": {},
   "source": [
    "# <center> ch2 Data Preprocessing</center>"
   ]
  },
  {
   "cell_type": "markdown",
   "id": "dfe2055a",
   "metadata": {},
   "source": [
    "## Data Cleansing"
   ]
  },
  {
   "cell_type": "markdown",
   "id": "e4137300",
   "metadata": {},
   "source": []
  },
  {
   "cell_type": "markdown",
   "id": "10d9d375",
   "metadata": {},
   "source": []
  },
  {
   "cell_type": "markdown",
   "id": "4a5a22ac",
   "metadata": {},
   "source": []
  },
  {
   "cell_type": "markdown",
   "id": "a01749d2",
   "metadata": {},
   "source": []
  },
  {
   "cell_type": "markdown",
   "id": "f4efa48a",
   "metadata": {},
   "source": [
    "## Data Transformation"
   ]
  },
  {
   "cell_type": "markdown",
   "id": "40bf49a7",
   "metadata": {},
   "source": []
  },
  {
   "cell_type": "markdown",
   "id": "fce41ebc",
   "metadata": {},
   "source": []
  },
  {
   "cell_type": "markdown",
   "id": "19008624",
   "metadata": {},
   "source": []
  },
  {
   "cell_type": "markdown",
   "id": "aefd0dfb",
   "metadata": {},
   "source": []
  },
  {
   "cell_type": "markdown",
   "id": "1275c49c",
   "metadata": {},
   "source": [
    "## Data Description"
   ]
  },
  {
   "cell_type": "markdown",
   "id": "1a25c7ef",
   "metadata": {},
   "source": []
  },
  {
   "cell_type": "markdown",
   "id": "60e2d652",
   "metadata": {},
   "source": []
  },
  {
   "cell_type": "markdown",
   "id": "f16aa680",
   "metadata": {},
   "source": []
  },
  {
   "cell_type": "markdown",
   "id": "304eeb9a",
   "metadata": {},
   "source": [
    "## Featture Selection"
   ]
  },
  {
   "cell_type": "markdown",
   "id": "b757d64f",
   "metadata": {},
   "source": []
  },
  {
   "cell_type": "markdown",
   "id": "caa3a450",
   "metadata": {},
   "source": []
  },
  {
   "cell_type": "markdown",
   "id": "57cd94a0",
   "metadata": {},
   "source": []
  },
  {
   "cell_type": "markdown",
   "id": "d340cab9",
   "metadata": {},
   "source": []
  },
  {
   "cell_type": "markdown",
   "id": "a07df9d2",
   "metadata": {},
   "source": []
  },
  {
   "cell_type": "markdown",
   "id": "2d7f0f65",
   "metadata": {},
   "source": [
    "## Feature Extraction"
   ]
  },
  {
   "cell_type": "markdown",
   "id": "cafae063",
   "metadata": {},
   "source": []
  }
 ],
 "metadata": {
  "kernelspec": {
   "display_name": "Python 3 (ipykernel)",
   "language": "python",
   "name": "python3"
  },
  "language_info": {
   "codemirror_mode": {
    "name": "ipython",
    "version": 3
   },
   "file_extension": ".py",
   "mimetype": "text/x-python",
   "name": "python",
   "nbconvert_exporter": "python",
   "pygments_lexer": "ipython3",
   "version": "3.7.11"
  }
 },
 "nbformat": 4,
 "nbformat_minor": 5
}
