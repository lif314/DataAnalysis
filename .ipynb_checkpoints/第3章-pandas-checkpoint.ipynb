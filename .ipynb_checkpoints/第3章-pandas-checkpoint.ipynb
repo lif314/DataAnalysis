{
 "cells": [
  {
   "cell_type": "markdown",
   "id": "b0ee978f",
   "metadata": {},
   "source": [
    "# <center>第3章 pandas  </center>"
   ]
  },
  {
   "cell_type": "markdown",
   "id": "42538c36",
   "metadata": {},
   "source": [
    "- 处理数据：数值、字符串、时间序列\n",
    "- pandas数据类型：\n",
    "    - Series：一维数据，带标签的数组\n",
    "    - DataFrame: 二维数据，Series容器"
   ]
  },
  {
   "cell_type": "markdown",
   "id": "dc172f80",
   "metadata": {},
   "source": [
    "## Series创建"
   ]
  },
  {
   "cell_type": "code",
   "execution_count": 3,
   "id": "ac5d237a",
   "metadata": {},
   "outputs": [],
   "source": [
    "import numpy as np\n",
    "import pandas as pd"
   ]
  },
  {
   "cell_type": "code",
   "execution_count": 5,
   "id": "d400d58a",
   "metadata": {},
   "outputs": [
    {
     "name": "stdout",
     "output_type": "stream",
     "text": [
      "0    0\n",
      "1    1\n",
      "2    2\n",
      "3    3\n",
      "4    4\n",
      "5    5\n",
      "6    6\n",
      "7    7\n",
      "8    8\n",
      "9    9\n",
      "dtype: int32\n"
     ]
    }
   ],
   "source": [
    "# 创建 Series\n",
    "t = pd.Series(np.arange(10))\n",
    "print(t)"
   ]
  },
  {
   "cell_type": "code",
   "execution_count": 6,
   "id": "5e0eb18e",
   "metadata": {},
   "outputs": [
    {
     "name": "stdout",
     "output_type": "stream",
     "text": [
      "A    0\n",
      "B    1\n",
      "C    2\n",
      "D    3\n",
      "E    4\n",
      "dtype: int32\n"
     ]
    }
   ],
   "source": [
    "# pandas的标签就是他的索引，可以在创建过程中指定索引\n",
    "import string\n",
    "t = pd.Series(np.arange(5), index=list(string.ascii_uppercase[:5]))\n",
    "print(t)"
   ]
  },
  {
   "cell_type": "code",
   "execution_count": 7,
   "id": "f5112b34",
   "metadata": {},
   "outputs": [
    {
     "name": "stdout",
     "output_type": "stream",
     "text": [
      "a    0\n",
      "b    1\n",
      "c    2\n",
      "d    3\n",
      "e    4\n",
      "dtype: int32\n"
     ]
    }
   ],
   "source": [
    "t = pd.Series(np.arange(5), index=list(\"abcde\"))\n",
    "print(t)"
   ]
  },
  {
   "cell_type": "code",
   "execution_count": 8,
   "id": "d1c2b3a3",
   "metadata": {},
   "outputs": [
    {
     "name": "stdout",
     "output_type": "stream",
     "text": [
      "name      llf\n",
      "age        20\n",
      "tel     10086\n",
      "dtype: object\n"
     ]
    }
   ],
   "source": [
    "# 使用字典进行创建\n",
    "dic = {\"name\": \"llf\", \"age\": 20, \"tel\": 10086}\n",
    "t = pd.Series(dic)  # 传入字典\n",
    "print(t)"
   ]
  },
  {
   "cell_type": "code",
   "execution_count": 9,
   "id": "ca7b0f85",
   "metadata": {},
   "outputs": [
    {
     "data": {
      "text/plain": [
       "dtype('O')"
      ]
     },
     "execution_count": 9,
     "metadata": {},
     "output_type": "execute_result"
    }
   ],
   "source": [
    "# 修改dtype\n",
    "t.dtype"
   ]
  },
  {
   "cell_type": "code",
   "execution_count": 10,
   "id": "8c4ee74f",
   "metadata": {},
   "outputs": [
    {
     "data": {
      "text/plain": [
       "'llf'"
      ]
     },
     "execution_count": 10,
     "metadata": {},
     "output_type": "execute_result"
    }
   ],
   "source": [
    "# 切片索引\n",
    "t[\"name\"]"
   ]
  },
  {
   "cell_type": "code",
   "execution_count": 11,
   "id": "3d1ecd1b",
   "metadata": {},
   "outputs": [
    {
     "data": {
      "text/plain": [
       "20"
      ]
     },
     "execution_count": 11,
     "metadata": {},
     "output_type": "execute_result"
    }
   ],
   "source": [
    "t['age']"
   ]
  },
  {
   "cell_type": "code",
   "execution_count": 12,
   "id": "1245b17b",
   "metadata": {},
   "outputs": [
    {
     "data": {
      "text/plain": [
       "'llf'"
      ]
     },
     "execution_count": 12,
     "metadata": {},
     "output_type": "execute_result"
    }
   ],
   "source": [
    "t[0]"
   ]
  },
  {
   "cell_type": "code",
   "execution_count": 13,
   "id": "4a6d73da",
   "metadata": {},
   "outputs": [
    {
     "data": {
      "text/plain": [
       "name    llf\n",
       "age      20\n",
       "dtype: object"
      ]
     },
     "execution_count": 13,
     "metadata": {},
     "output_type": "execute_result"
    }
   ],
   "source": [
    "t[:2]"
   ]
  },
  {
   "cell_type": "code",
   "execution_count": 16,
   "id": "b959851b",
   "metadata": {},
   "outputs": [
    {
     "data": {
      "text/plain": [
       "Index(['name', 'age', 'tel'], dtype='object')"
      ]
     },
     "execution_count": 16,
     "metadata": {},
     "output_type": "execute_result"
    }
   ],
   "source": [
    "t.index"
   ]
  },
  {
   "cell_type": "code",
   "execution_count": 17,
   "id": "e44e63a3",
   "metadata": {},
   "outputs": [
    {
     "name": "stdout",
     "output_type": "stream",
     "text": [
      "name\n",
      "age\n",
      "tel\n"
     ]
    }
   ],
   "source": [
    "for i in t.index:\n",
    "    print(i)"
   ]
  },
  {
   "cell_type": "code",
   "execution_count": 18,
   "id": "6b0ddecc",
   "metadata": {},
   "outputs": [
    {
     "data": {
      "text/plain": [
       "array(['llf', 20, 10086], dtype=object)"
      ]
     },
     "execution_count": 18,
     "metadata": {},
     "output_type": "execute_result"
    }
   ],
   "source": [
    "# values属性\n",
    "t.values"
   ]
  },
  {
   "cell_type": "code",
   "execution_count": 19,
   "id": "dc574334",
   "metadata": {},
   "outputs": [
    {
     "name": "stdout",
     "output_type": "stream",
     "text": [
      "0    0\n",
      "1    1\n",
      "2    2\n",
      "3    3\n",
      "4    4\n",
      "dtype: int64\n"
     ]
    }
   ],
   "source": [
    "# where方法\n",
    "s = pd.Series(range(5))\n",
    "print(s)"
   ]
  },
  {
   "cell_type": "code",
   "execution_count": 20,
   "id": "22a3bcf7",
   "metadata": {},
   "outputs": [
    {
     "data": {
      "text/plain": [
       "0    NaN\n",
       "1    1.0\n",
       "2    2.0\n",
       "3    3.0\n",
       "4    4.0\n",
       "dtype: float64"
      ]
     },
     "execution_count": 20,
     "metadata": {},
     "output_type": "execute_result"
    }
   ],
   "source": [
    "s.where(s>0)"
   ]
  },
  {
   "cell_type": "markdown",
   "id": "030d79cb",
   "metadata": {},
   "source": [
    "## pandas读取外部数据"
   ]
  },
  {
   "cell_type": "code",
   "execution_count": 21,
   "id": "463967d7",
   "metadata": {},
   "outputs": [
    {
     "name": "stdout",
     "output_type": "stream",
     "text": [
      "   RNCID_1  CellID_1  SignalLevel_1  RSSI_1  SignalLevel_2  RSSI_2  \\\n",
      "0     6188     26051              4     -59              3     -93   \n",
      "1     6188     26051              4     -59              3     -91   \n",
      "2     6188     26051              4     -57              4     -89   \n",
      "3     6188     26051              4     -51              4     -85   \n",
      "\n",
      "   SignalLevel_3  RSSI_3  SignalLevel_4  RSSI_4  SignalLevel_5  RSSI_5  \\\n",
      "0            4.0   -77.0            4.0   -89.0            3.0   -97.0   \n",
      "1            4.0   -75.0            4.0   -89.0            3.0   -97.0   \n",
      "2            4.0   -71.0            3.0   -91.0            2.0   -99.0   \n",
      "3            4.0   -71.0            3.0   -91.0            3.0   -95.0   \n",
      "\n",
      "   SignalLevel_6  RSSI_6  SignalLevel_7  RSSI_7  LinkNum   Longitude  \\\n",
      "0            3.0   -95.0            3.0   -95.0        7  121.213563   \n",
      "1            3.0   -95.0            3.0   -95.0        7  121.213563   \n",
      "2            3.0   -95.0            3.0   -97.0        7  121.213602   \n",
      "3            3.0   -97.0            NaN     NaN        6  121.213631   \n",
      "\n",
      "    Latitude  \n",
      "0  31.291798  \n",
      "1  31.291798  \n",
      "2  31.291850  \n",
      "3  31.291835  \n"
     ]
    }
   ],
   "source": [
    "# 读取csv文件\n",
    "data = pd.read_csv(\"./data/2G_data.csv\")\n",
    "print(data.head(4))"
   ]
  },
  {
   "cell_type": "markdown",
   "id": "e3ad290a",
   "metadata": {},
   "source": [
    "## DataFrame"
   ]
  },
  {
   "cell_type": "code",
   "execution_count": 22,
   "id": "b982a78a",
   "metadata": {},
   "outputs": [
    {
     "name": "stdout",
     "output_type": "stream",
     "text": [
      "   0  1   2   3\n",
      "0  0  1   2   3\n",
      "1  4  5   6   7\n",
      "2  8  9  10  11\n"
     ]
    }
   ],
   "source": [
    "# 创建DataFrame\n",
    "t = pd.DataFrame(np.arange(12).reshape(3,4))\n",
    "print(t)\n",
    "\n",
    "# 行索引：横向索引，index.0轴，axis=0\n",
    "# 列索引，columns, axis=1"
   ]
  },
  {
   "cell_type": "code",
   "execution_count": 24,
   "id": "1368e776",
   "metadata": {},
   "outputs": [
    {
     "name": "stdout",
     "output_type": "stream",
     "text": [
      "   a  b   c   d\n",
      "a  0  1   2   3\n",
      "b  4  5   6   7\n",
      "c  8  9  10  11\n"
     ]
    }
   ],
   "source": [
    "t = pd.DataFrame(np.arange(12).reshape(3,4), index=list(\"abc\"), columns=list('abcd'))\n",
    "print(t)"
   ]
  },
  {
   "cell_type": "code",
   "execution_count": 25,
   "id": "dba01856",
   "metadata": {},
   "outputs": [
    {
     "name": "stdout",
     "output_type": "stream",
     "text": [
      "       name  age\n",
      "0  xiaoming   12\n",
      "1  xiaohong   34\n"
     ]
    }
   ],
   "source": [
    "# 使用字典创建\n",
    "d1 = {\"name\": [\"xiaoming\", \"xiaohong\"], \"age\": [12,34]}\n",
    "\n",
    "t = pd.DataFrame(d1)\n",
    "print(t)"
   ]
  },
  {
   "cell_type": "code",
   "execution_count": 26,
   "id": "989487d7",
   "metadata": {},
   "outputs": [
    {
     "data": {
      "text/plain": [
       "RangeIndex(start=0, stop=2, step=1)"
      ]
     },
     "execution_count": 26,
     "metadata": {},
     "output_type": "execute_result"
    }
   ],
   "source": [
    "t.index # 行索引"
   ]
  },
  {
   "cell_type": "code",
   "execution_count": 28,
   "id": "5a90e7b2",
   "metadata": {},
   "outputs": [
    {
     "data": {
      "text/plain": [
       "Index(['name', 'age'], dtype='object')"
      ]
     },
     "execution_count": 28,
     "metadata": {},
     "output_type": "execute_result"
    }
   ],
   "source": [
    "t.columns  # 列索引"
   ]
  },
  {
   "cell_type": "markdown",
   "id": "c4cb343f",
   "metadata": {},
   "source": [
    "## DataFrame描述信息"
   ]
  },
  {
   "cell_type": "code",
   "execution_count": 30,
   "id": "92ebc605",
   "metadata": {},
   "outputs": [
    {
     "data": {
      "text/plain": [
       "Index(['RNCID_1', 'CellID_1', 'SignalLevel_1', 'RSSI_1', 'SignalLevel_2',\n",
       "       'RSSI_2', 'SignalLevel_3', 'RSSI_3', 'SignalLevel_4', 'RSSI_4',\n",
       "       'SignalLevel_5', 'RSSI_5', 'SignalLevel_6', 'RSSI_6', 'SignalLevel_7',\n",
       "       'RSSI_7', 'LinkNum', 'Longitude', 'Latitude'],\n",
       "      dtype='object')"
      ]
     },
     "execution_count": 30,
     "metadata": {},
     "output_type": "execute_result"
    }
   ],
   "source": [
    "# 读取csv文件\n",
    "data = pd.read_csv(\"./data/2G_data.csv\")\n",
    "# 查看列索引\n",
    "data.columns"
   ]
  },
  {
   "cell_type": "code",
   "execution_count": 34,
   "id": "5fd39c38",
   "metadata": {},
   "outputs": [
    {
     "data": {
      "text/plain": [
       "(102, 19)"
      ]
     },
     "execution_count": 34,
     "metadata": {},
     "output_type": "execute_result"
    }
   ],
   "source": [
    "# 属性\n",
    "data.shape"
   ]
  },
  {
   "cell_type": "code",
   "execution_count": 35,
   "id": "d87d812e",
   "metadata": {},
   "outputs": [
    {
     "data": {
      "text/plain": [
       "RNCID_1            int64\n",
       "CellID_1           int64\n",
       "SignalLevel_1      int64\n",
       "RSSI_1             int64\n",
       "SignalLevel_2      int64\n",
       "RSSI_2             int64\n",
       "SignalLevel_3    float64\n",
       "RSSI_3           float64\n",
       "SignalLevel_4    float64\n",
       "RSSI_4           float64\n",
       "SignalLevel_5    float64\n",
       "RSSI_5           float64\n",
       "SignalLevel_6    float64\n",
       "RSSI_6           float64\n",
       "SignalLevel_7    float64\n",
       "RSSI_7           float64\n",
       "LinkNum            int64\n",
       "Longitude        float64\n",
       "Latitude         float64\n",
       "dtype: object"
      ]
     },
     "execution_count": 35,
     "metadata": {},
     "output_type": "execute_result"
    }
   ],
   "source": [
    "# 列数据类型\n",
    "data.dtypes"
   ]
  },
  {
   "cell_type": "code",
   "execution_count": 36,
   "id": "7853f02c",
   "metadata": {},
   "outputs": [
    {
     "data": {
      "text/plain": [
       "2"
      ]
     },
     "execution_count": 36,
     "metadata": {},
     "output_type": "execute_result"
    }
   ],
   "source": [
    "# 数据维度\n",
    "data.ndim"
   ]
  },
  {
   "cell_type": "code",
   "execution_count": 37,
   "id": "8d7338d5",
   "metadata": {},
   "outputs": [
    {
     "data": {
      "text/plain": [
       "RangeIndex(start=0, stop=102, step=1)"
      ]
     },
     "execution_count": 37,
     "metadata": {},
     "output_type": "execute_result"
    }
   ],
   "source": [
    "#行索引\n",
    "data.index"
   ]
  },
  {
   "cell_type": "code",
   "execution_count": 38,
   "id": "70f05a20",
   "metadata": {},
   "outputs": [
    {
     "data": {
      "text/plain": [
       "Index(['RNCID_1', 'CellID_1', 'SignalLevel_1', 'RSSI_1', 'SignalLevel_2',\n",
       "       'RSSI_2', 'SignalLevel_3', 'RSSI_3', 'SignalLevel_4', 'RSSI_4',\n",
       "       'SignalLevel_5', 'RSSI_5', 'SignalLevel_6', 'RSSI_6', 'SignalLevel_7',\n",
       "       'RSSI_7', 'LinkNum', 'Longitude', 'Latitude'],\n",
       "      dtype='object')"
      ]
     },
     "execution_count": 38,
     "metadata": {},
     "output_type": "execute_result"
    }
   ],
   "source": [
    "# 列索引\n",
    "data.columns"
   ]
  },
  {
   "cell_type": "code",
   "execution_count": 39,
   "id": "ad34787c",
   "metadata": {},
   "outputs": [
    {
     "data": {
      "text/plain": [
       "array([[6.18800000e+03, 2.60510000e+04, 4.00000000e+00, ...,\n",
       "        7.00000000e+00, 1.21213563e+02, 3.12917976e+01],\n",
       "       [6.18800000e+03, 2.60510000e+04, 4.00000000e+00, ...,\n",
       "        7.00000000e+00, 1.21213563e+02, 3.12917976e+01],\n",
       "       [6.18800000e+03, 2.60510000e+04, 4.00000000e+00, ...,\n",
       "        7.00000000e+00, 1.21213602e+02, 3.12918498e+01],\n",
       "       ...,\n",
       "       [6.18800000e+03, 2.73950000e+04, 3.00000000e+00, ...,\n",
       "        5.00000000e+00, 1.21210564e+02, 3.12825358e+01],\n",
       "       [6.18800000e+03, 2.73950000e+04, 3.00000000e+00, ...,\n",
       "        5.00000000e+00, 1.21210657e+02, 3.12824630e+01],\n",
       "       [6.18800000e+03, 2.73780000e+04, 4.00000000e+00, ...,\n",
       "        5.00000000e+00, 1.21210657e+02, 3.12824630e+01]])"
      ]
     },
     "execution_count": 39,
     "metadata": {},
     "output_type": "execute_result"
    }
   ],
   "source": [
    "# 数值对象\n",
    "data.values"
   ]
  },
  {
   "cell_type": "code",
   "execution_count": 41,
   "id": "5f0b3cba",
   "metadata": {},
   "outputs": [
    {
     "data": {
      "text/html": [
       "<div>\n",
       "<style scoped>\n",
       "    .dataframe tbody tr th:only-of-type {\n",
       "        vertical-align: middle;\n",
       "    }\n",
       "\n",
       "    .dataframe tbody tr th {\n",
       "        vertical-align: top;\n",
       "    }\n",
       "\n",
       "    .dataframe thead th {\n",
       "        text-align: right;\n",
       "    }\n",
       "</style>\n",
       "<table border=\"1\" class=\"dataframe\">\n",
       "  <thead>\n",
       "    <tr style=\"text-align: right;\">\n",
       "      <th></th>\n",
       "      <th>RNCID_1</th>\n",
       "      <th>CellID_1</th>\n",
       "      <th>SignalLevel_1</th>\n",
       "      <th>RSSI_1</th>\n",
       "      <th>SignalLevel_2</th>\n",
       "      <th>RSSI_2</th>\n",
       "      <th>SignalLevel_3</th>\n",
       "      <th>RSSI_3</th>\n",
       "      <th>SignalLevel_4</th>\n",
       "      <th>RSSI_4</th>\n",
       "      <th>SignalLevel_5</th>\n",
       "      <th>RSSI_5</th>\n",
       "      <th>SignalLevel_6</th>\n",
       "      <th>RSSI_6</th>\n",
       "      <th>SignalLevel_7</th>\n",
       "      <th>RSSI_7</th>\n",
       "      <th>LinkNum</th>\n",
       "      <th>Longitude</th>\n",
       "      <th>Latitude</th>\n",
       "    </tr>\n",
       "  </thead>\n",
       "  <tbody>\n",
       "    <tr>\n",
       "      <th>0</th>\n",
       "      <td>6188</td>\n",
       "      <td>26051</td>\n",
       "      <td>4</td>\n",
       "      <td>-59</td>\n",
       "      <td>3</td>\n",
       "      <td>-93</td>\n",
       "      <td>4.0</td>\n",
       "      <td>-77.0</td>\n",
       "      <td>4.0</td>\n",
       "      <td>-89.0</td>\n",
       "      <td>3.0</td>\n",
       "      <td>-97.0</td>\n",
       "      <td>3.0</td>\n",
       "      <td>-95.0</td>\n",
       "      <td>3.0</td>\n",
       "      <td>-95.0</td>\n",
       "      <td>7</td>\n",
       "      <td>121.213563</td>\n",
       "      <td>31.291798</td>\n",
       "    </tr>\n",
       "  </tbody>\n",
       "</table>\n",
       "</div>"
      ],
      "text/plain": [
       "   RNCID_1  CellID_1  SignalLevel_1  RSSI_1  SignalLevel_2  RSSI_2  \\\n",
       "0     6188     26051              4     -59              3     -93   \n",
       "\n",
       "   SignalLevel_3  RSSI_3  SignalLevel_4  RSSI_4  SignalLevel_5  RSSI_5  \\\n",
       "0            4.0   -77.0            4.0   -89.0            3.0   -97.0   \n",
       "\n",
       "   SignalLevel_6  RSSI_6  SignalLevel_7  RSSI_7  LinkNum   Longitude  \\\n",
       "0            3.0   -95.0            3.0   -95.0        7  121.213563   \n",
       "\n",
       "    Latitude  \n",
       "0  31.291798  "
      ]
     },
     "execution_count": 41,
     "metadata": {},
     "output_type": "execute_result"
    }
   ],
   "source": [
    "# 整体查询情况\n",
    "data.head(1)"
   ]
  },
  {
   "cell_type": "code",
   "execution_count": 42,
   "id": "4e341685",
   "metadata": {},
   "outputs": [
    {
     "data": {
      "text/html": [
       "<div>\n",
       "<style scoped>\n",
       "    .dataframe tbody tr th:only-of-type {\n",
       "        vertical-align: middle;\n",
       "    }\n",
       "\n",
       "    .dataframe tbody tr th {\n",
       "        vertical-align: top;\n",
       "    }\n",
       "\n",
       "    .dataframe thead th {\n",
       "        text-align: right;\n",
       "    }\n",
       "</style>\n",
       "<table border=\"1\" class=\"dataframe\">\n",
       "  <thead>\n",
       "    <tr style=\"text-align: right;\">\n",
       "      <th></th>\n",
       "      <th>RNCID_1</th>\n",
       "      <th>CellID_1</th>\n",
       "      <th>SignalLevel_1</th>\n",
       "      <th>RSSI_1</th>\n",
       "      <th>SignalLevel_2</th>\n",
       "      <th>RSSI_2</th>\n",
       "      <th>SignalLevel_3</th>\n",
       "      <th>RSSI_3</th>\n",
       "      <th>SignalLevel_4</th>\n",
       "      <th>RSSI_4</th>\n",
       "      <th>SignalLevel_5</th>\n",
       "      <th>RSSI_5</th>\n",
       "      <th>SignalLevel_6</th>\n",
       "      <th>RSSI_6</th>\n",
       "      <th>SignalLevel_7</th>\n",
       "      <th>RSSI_7</th>\n",
       "      <th>LinkNum</th>\n",
       "      <th>Longitude</th>\n",
       "      <th>Latitude</th>\n",
       "    </tr>\n",
       "  </thead>\n",
       "  <tbody>\n",
       "    <tr>\n",
       "      <th>101</th>\n",
       "      <td>6188</td>\n",
       "      <td>27378</td>\n",
       "      <td>4</td>\n",
       "      <td>-77</td>\n",
       "      <td>4</td>\n",
       "      <td>-87</td>\n",
       "      <td>4.0</td>\n",
       "      <td>-89.0</td>\n",
       "      <td>3.0</td>\n",
       "      <td>-91.0</td>\n",
       "      <td>4.0</td>\n",
       "      <td>-89.0</td>\n",
       "      <td>NaN</td>\n",
       "      <td>NaN</td>\n",
       "      <td>NaN</td>\n",
       "      <td>NaN</td>\n",
       "      <td>5</td>\n",
       "      <td>121.210657</td>\n",
       "      <td>31.282463</td>\n",
       "    </tr>\n",
       "  </tbody>\n",
       "</table>\n",
       "</div>"
      ],
      "text/plain": [
       "     RNCID_1  CellID_1  SignalLevel_1  RSSI_1  SignalLevel_2  RSSI_2  \\\n",
       "101     6188     27378              4     -77              4     -87   \n",
       "\n",
       "     SignalLevel_3  RSSI_3  SignalLevel_4  RSSI_4  SignalLevel_5  RSSI_5  \\\n",
       "101            4.0   -89.0            3.0   -91.0            4.0   -89.0   \n",
       "\n",
       "     SignalLevel_6  RSSI_6  SignalLevel_7  RSSI_7  LinkNum   Longitude  \\\n",
       "101            NaN     NaN            NaN     NaN        5  121.210657   \n",
       "\n",
       "      Latitude  \n",
       "101  31.282463  "
      ]
     },
     "execution_count": 42,
     "metadata": {},
     "output_type": "execute_result"
    }
   ],
   "source": [
    "data.tail(1)"
   ]
  },
  {
   "cell_type": "code",
   "execution_count": 43,
   "id": "5fa84801",
   "metadata": {},
   "outputs": [
    {
     "name": "stdout",
     "output_type": "stream",
     "text": [
      "<class 'pandas.core.frame.DataFrame'>\n",
      "RangeIndex: 102 entries, 0 to 101\n",
      "Data columns (total 19 columns):\n",
      " #   Column         Non-Null Count  Dtype  \n",
      "---  ------         --------------  -----  \n",
      " 0   RNCID_1        102 non-null    int64  \n",
      " 1   CellID_1       102 non-null    int64  \n",
      " 2   SignalLevel_1  102 non-null    int64  \n",
      " 3   RSSI_1         102 non-null    int64  \n",
      " 4   SignalLevel_2  102 non-null    int64  \n",
      " 5   RSSI_2         102 non-null    int64  \n",
      " 6   SignalLevel_3  100 non-null    float64\n",
      " 7   RSSI_3         100 non-null    float64\n",
      " 8   SignalLevel_4  98 non-null     float64\n",
      " 9   RSSI_4         98 non-null     float64\n",
      " 10  SignalLevel_5  92 non-null     float64\n",
      " 11  RSSI_5         92 non-null     float64\n",
      " 12  SignalLevel_6  79 non-null     float64\n",
      " 13  RSSI_6         79 non-null     float64\n",
      " 14  SignalLevel_7  47 non-null     float64\n",
      " 15  RSSI_7         47 non-null     float64\n",
      " 16  LinkNum        102 non-null    int64  \n",
      " 17  Longitude      102 non-null    float64\n",
      " 18  Latitude       102 non-null    float64\n",
      "dtypes: float64(12), int64(7)\n",
      "memory usage: 15.3 KB\n"
     ]
    }
   ],
   "source": [
    "# 相关信息概览：行数 列数 列索引 列非空值个数 列类型 行类型 内存占用\n",
    "data.info()"
   ]
  },
  {
   "cell_type": "code",
   "execution_count": 44,
   "id": "179aa546",
   "metadata": {
    "scrolled": true
   },
   "outputs": [
    {
     "data": {
      "text/html": [
       "<div>\n",
       "<style scoped>\n",
       "    .dataframe tbody tr th:only-of-type {\n",
       "        vertical-align: middle;\n",
       "    }\n",
       "\n",
       "    .dataframe tbody tr th {\n",
       "        vertical-align: top;\n",
       "    }\n",
       "\n",
       "    .dataframe thead th {\n",
       "        text-align: right;\n",
       "    }\n",
       "</style>\n",
       "<table border=\"1\" class=\"dataframe\">\n",
       "  <thead>\n",
       "    <tr style=\"text-align: right;\">\n",
       "      <th></th>\n",
       "      <th>RNCID_1</th>\n",
       "      <th>CellID_1</th>\n",
       "      <th>SignalLevel_1</th>\n",
       "      <th>RSSI_1</th>\n",
       "      <th>SignalLevel_2</th>\n",
       "      <th>RSSI_2</th>\n",
       "      <th>SignalLevel_3</th>\n",
       "      <th>RSSI_3</th>\n",
       "      <th>SignalLevel_4</th>\n",
       "      <th>RSSI_4</th>\n",
       "      <th>SignalLevel_5</th>\n",
       "      <th>RSSI_5</th>\n",
       "      <th>SignalLevel_6</th>\n",
       "      <th>RSSI_6</th>\n",
       "      <th>SignalLevel_7</th>\n",
       "      <th>RSSI_7</th>\n",
       "      <th>LinkNum</th>\n",
       "      <th>Longitude</th>\n",
       "      <th>Latitude</th>\n",
       "    </tr>\n",
       "  </thead>\n",
       "  <tbody>\n",
       "    <tr>\n",
       "      <th>count</th>\n",
       "      <td>102.0</td>\n",
       "      <td>102.000000</td>\n",
       "      <td>102.000000</td>\n",
       "      <td>102.000000</td>\n",
       "      <td>102.000000</td>\n",
       "      <td>102.000000</td>\n",
       "      <td>100.000000</td>\n",
       "      <td>100.000000</td>\n",
       "      <td>98.000000</td>\n",
       "      <td>98.000000</td>\n",
       "      <td>92.000000</td>\n",
       "      <td>92.000000</td>\n",
       "      <td>79.000000</td>\n",
       "      <td>79.000000</td>\n",
       "      <td>47.000000</td>\n",
       "      <td>47.000000</td>\n",
       "      <td>102.000000</td>\n",
       "      <td>102.000000</td>\n",
       "      <td>102.000000</td>\n",
       "    </tr>\n",
       "    <tr>\n",
       "      <th>mean</th>\n",
       "      <td>6188.0</td>\n",
       "      <td>25675.215686</td>\n",
       "      <td>3.862745</td>\n",
       "      <td>-72.901961</td>\n",
       "      <td>3.872549</td>\n",
       "      <td>-80.470588</td>\n",
       "      <td>3.950000</td>\n",
       "      <td>-80.720000</td>\n",
       "      <td>3.908163</td>\n",
       "      <td>-80.938776</td>\n",
       "      <td>3.782609</td>\n",
       "      <td>-84.804348</td>\n",
       "      <td>3.822785</td>\n",
       "      <td>-82.670886</td>\n",
       "      <td>3.595745</td>\n",
       "      <td>-85.936170</td>\n",
       "      <td>6.078431</td>\n",
       "      <td>121.212547</td>\n",
       "      <td>31.287297</td>\n",
       "    </tr>\n",
       "    <tr>\n",
       "      <th>std</th>\n",
       "      <td>0.0</td>\n",
       "      <td>2136.453296</td>\n",
       "      <td>0.345816</td>\n",
       "      <td>13.504315</td>\n",
       "      <td>0.335124</td>\n",
       "      <td>7.108363</td>\n",
       "      <td>0.219043</td>\n",
       "      <td>7.341703</td>\n",
       "      <td>0.290280</td>\n",
       "      <td>7.729734</td>\n",
       "      <td>0.440432</td>\n",
       "      <td>6.011416</td>\n",
       "      <td>0.384291</td>\n",
       "      <td>8.451554</td>\n",
       "      <td>0.496053</td>\n",
       "      <td>7.112158</td>\n",
       "      <td>1.149139</td>\n",
       "      <td>0.002509</td>\n",
       "      <td>0.003502</td>\n",
       "    </tr>\n",
       "    <tr>\n",
       "      <th>min</th>\n",
       "      <td>6188.0</td>\n",
       "      <td>20865.000000</td>\n",
       "      <td>3.000000</td>\n",
       "      <td>-95.000000</td>\n",
       "      <td>3.000000</td>\n",
       "      <td>-95.000000</td>\n",
       "      <td>3.000000</td>\n",
       "      <td>-97.000000</td>\n",
       "      <td>3.000000</td>\n",
       "      <td>-97.000000</td>\n",
       "      <td>2.000000</td>\n",
       "      <td>-99.000000</td>\n",
       "      <td>3.000000</td>\n",
       "      <td>-97.000000</td>\n",
       "      <td>3.000000</td>\n",
       "      <td>-97.000000</td>\n",
       "      <td>2.000000</td>\n",
       "      <td>121.208934</td>\n",
       "      <td>31.282463</td>\n",
       "    </tr>\n",
       "    <tr>\n",
       "      <th>25%</th>\n",
       "      <td>6188.0</td>\n",
       "      <td>26050.250000</td>\n",
       "      <td>4.000000</td>\n",
       "      <td>-87.000000</td>\n",
       "      <td>4.000000</td>\n",
       "      <td>-85.000000</td>\n",
       "      <td>4.000000</td>\n",
       "      <td>-85.000000</td>\n",
       "      <td>4.000000</td>\n",
       "      <td>-87.000000</td>\n",
       "      <td>4.000000</td>\n",
       "      <td>-89.000000</td>\n",
       "      <td>4.000000</td>\n",
       "      <td>-87.000000</td>\n",
       "      <td>3.000000</td>\n",
       "      <td>-92.000000</td>\n",
       "      <td>6.000000</td>\n",
       "      <td>121.209865</td>\n",
       "      <td>31.283404</td>\n",
       "    </tr>\n",
       "    <tr>\n",
       "      <th>50%</th>\n",
       "      <td>6188.0</td>\n",
       "      <td>26051.000000</td>\n",
       "      <td>4.000000</td>\n",
       "      <td>-73.000000</td>\n",
       "      <td>4.000000</td>\n",
       "      <td>-79.000000</td>\n",
       "      <td>4.000000</td>\n",
       "      <td>-83.000000</td>\n",
       "      <td>4.000000</td>\n",
       "      <td>-81.000000</td>\n",
       "      <td>4.000000</td>\n",
       "      <td>-85.000000</td>\n",
       "      <td>4.000000</td>\n",
       "      <td>-85.000000</td>\n",
       "      <td>4.000000</td>\n",
       "      <td>-85.000000</td>\n",
       "      <td>6.000000</td>\n",
       "      <td>121.213596</td>\n",
       "      <td>31.289306</td>\n",
       "    </tr>\n",
       "    <tr>\n",
       "      <th>75%</th>\n",
       "      <td>6188.0</td>\n",
       "      <td>27378.000000</td>\n",
       "      <td>4.000000</td>\n",
       "      <td>-61.000000</td>\n",
       "      <td>4.000000</td>\n",
       "      <td>-75.000000</td>\n",
       "      <td>4.000000</td>\n",
       "      <td>-75.000000</td>\n",
       "      <td>4.000000</td>\n",
       "      <td>-73.500000</td>\n",
       "      <td>4.000000</td>\n",
       "      <td>-81.000000</td>\n",
       "      <td>4.000000</td>\n",
       "      <td>-79.000000</td>\n",
       "      <td>4.000000</td>\n",
       "      <td>-79.000000</td>\n",
       "      <td>7.000000</td>\n",
       "      <td>121.214625</td>\n",
       "      <td>31.289501</td>\n",
       "    </tr>\n",
       "    <tr>\n",
       "      <th>max</th>\n",
       "      <td>6188.0</td>\n",
       "      <td>27395.000000</td>\n",
       "      <td>4.000000</td>\n",
       "      <td>-51.000000</td>\n",
       "      <td>4.000000</td>\n",
       "      <td>-67.000000</td>\n",
       "      <td>4.000000</td>\n",
       "      <td>-61.000000</td>\n",
       "      <td>4.000000</td>\n",
       "      <td>-69.000000</td>\n",
       "      <td>4.000000</td>\n",
       "      <td>-65.000000</td>\n",
       "      <td>4.000000</td>\n",
       "      <td>-65.000000</td>\n",
       "      <td>4.000000</td>\n",
       "      <td>-73.000000</td>\n",
       "      <td>7.000000</td>\n",
       "      <td>121.215805</td>\n",
       "      <td>31.291856</td>\n",
       "    </tr>\n",
       "  </tbody>\n",
       "</table>\n",
       "</div>"
      ],
      "text/plain": [
       "       RNCID_1      CellID_1  SignalLevel_1      RSSI_1  SignalLevel_2  \\\n",
       "count    102.0    102.000000     102.000000  102.000000     102.000000   \n",
       "mean    6188.0  25675.215686       3.862745  -72.901961       3.872549   \n",
       "std        0.0   2136.453296       0.345816   13.504315       0.335124   \n",
       "min     6188.0  20865.000000       3.000000  -95.000000       3.000000   \n",
       "25%     6188.0  26050.250000       4.000000  -87.000000       4.000000   \n",
       "50%     6188.0  26051.000000       4.000000  -73.000000       4.000000   \n",
       "75%     6188.0  27378.000000       4.000000  -61.000000       4.000000   \n",
       "max     6188.0  27395.000000       4.000000  -51.000000       4.000000   \n",
       "\n",
       "           RSSI_2  SignalLevel_3      RSSI_3  SignalLevel_4     RSSI_4  \\\n",
       "count  102.000000     100.000000  100.000000      98.000000  98.000000   \n",
       "mean   -80.470588       3.950000  -80.720000       3.908163 -80.938776   \n",
       "std      7.108363       0.219043    7.341703       0.290280   7.729734   \n",
       "min    -95.000000       3.000000  -97.000000       3.000000 -97.000000   \n",
       "25%    -85.000000       4.000000  -85.000000       4.000000 -87.000000   \n",
       "50%    -79.000000       4.000000  -83.000000       4.000000 -81.000000   \n",
       "75%    -75.000000       4.000000  -75.000000       4.000000 -73.500000   \n",
       "max    -67.000000       4.000000  -61.000000       4.000000 -69.000000   \n",
       "\n",
       "       SignalLevel_5     RSSI_5  SignalLevel_6     RSSI_6  SignalLevel_7  \\\n",
       "count      92.000000  92.000000      79.000000  79.000000      47.000000   \n",
       "mean        3.782609 -84.804348       3.822785 -82.670886       3.595745   \n",
       "std         0.440432   6.011416       0.384291   8.451554       0.496053   \n",
       "min         2.000000 -99.000000       3.000000 -97.000000       3.000000   \n",
       "25%         4.000000 -89.000000       4.000000 -87.000000       3.000000   \n",
       "50%         4.000000 -85.000000       4.000000 -85.000000       4.000000   \n",
       "75%         4.000000 -81.000000       4.000000 -79.000000       4.000000   \n",
       "max         4.000000 -65.000000       4.000000 -65.000000       4.000000   \n",
       "\n",
       "          RSSI_7     LinkNum   Longitude    Latitude  \n",
       "count  47.000000  102.000000  102.000000  102.000000  \n",
       "mean  -85.936170    6.078431  121.212547   31.287297  \n",
       "std     7.112158    1.149139    0.002509    0.003502  \n",
       "min   -97.000000    2.000000  121.208934   31.282463  \n",
       "25%   -92.000000    6.000000  121.209865   31.283404  \n",
       "50%   -85.000000    6.000000  121.213596   31.289306  \n",
       "75%   -79.000000    7.000000  121.214625   31.289501  \n",
       "max   -73.000000    7.000000  121.215805   31.291856  "
      ]
     },
     "execution_count": 44,
     "metadata": {},
     "output_type": "execute_result"
    }
   ],
   "source": [
    "# 快速综合统计信息：计数 均值 标准差 最大值 四分位数  最小值\n",
    "data.describe()"
   ]
  },
  {
   "cell_type": "code",
   "execution_count": 48,
   "id": "b7bbbe1c",
   "metadata": {},
   "outputs": [
    {
     "name": "stdout",
     "output_type": "stream",
     "text": [
      "   RNCID_1  CellID_1  SignalLevel_1  RSSI_1  SignalLevel_2  RSSI_2  \\\n",
      "3     6188     26051              4     -51              4     -85   \n",
      "4     6188     26051              4     -51              4     -75   \n",
      "2     6188     26051              4     -57              4     -89   \n",
      "0     6188     26051              4     -59              3     -93   \n",
      "1     6188     26051              4     -59              3     -91   \n",
      "\n",
      "   SignalLevel_3  RSSI_3  SignalLevel_4  RSSI_4  SignalLevel_5  RSSI_5  \\\n",
      "3            4.0   -71.0            3.0   -91.0            3.0   -95.0   \n",
      "4            4.0   -71.0            4.0   -83.0            3.0   -91.0   \n",
      "2            4.0   -71.0            3.0   -91.0            2.0   -99.0   \n",
      "0            4.0   -77.0            4.0   -89.0            3.0   -97.0   \n",
      "1            4.0   -75.0            4.0   -89.0            3.0   -97.0   \n",
      "\n",
      "   SignalLevel_6  RSSI_6  SignalLevel_7  RSSI_7  LinkNum   Longitude  \\\n",
      "3            3.0   -97.0            NaN     NaN        6  121.213631   \n",
      "4            4.0   -89.0            NaN     NaN        6  121.213594   \n",
      "2            3.0   -95.0            3.0   -97.0        7  121.213602   \n",
      "0            3.0   -95.0            3.0   -95.0        7  121.213563   \n",
      "1            3.0   -95.0            3.0   -95.0        7  121.213563   \n",
      "\n",
      "    Latitude  \n",
      "3  31.291835  \n",
      "4  31.291856  \n",
      "2  31.291850  \n",
      "0  31.291798  \n",
      "1  31.291798  \n"
     ]
    }
   ],
   "source": [
    "# DataFrame中排序的方法\n",
    "temp = data.head()\n",
    "temp = temp.sort_values(by=\"RSSI_1\", ascending=False)\n",
    "print(temp)"
   ]
  },
  {
   "cell_type": "markdown",
   "id": "f96575a2",
   "metadata": {},
   "source": [
    "## loc 位置选择\n",
    "- df.loc: 通过**标签**索引数据行数据\n",
    "- df.iloc：通过**位置**获取列数据"
   ]
  },
  {
   "cell_type": "code",
   "execution_count": 50,
   "id": "5545940e",
   "metadata": {},
   "outputs": [
    {
     "name": "stdout",
     "output_type": "stream",
     "text": [
      "   W  X   Y   Z\n",
      "a  0  1   2   3\n",
      "b  4  5   6   7\n",
      "c  8  9  10  11\n"
     ]
    }
   ],
   "source": [
    "t = pd.DataFrame(np.arange(12).reshape(3,4), index=list('abc'), columns=list('WXYZ'))\n",
    "print(t)"
   ]
  },
  {
   "cell_type": "code",
   "execution_count": 51,
   "id": "ea37352b",
   "metadata": {},
   "outputs": [
    {
     "data": {
      "text/plain": [
       "0"
      ]
     },
     "execution_count": 51,
     "metadata": {},
     "output_type": "execute_result"
    }
   ],
   "source": [
    "# loc\n",
    "t.loc['a', 'W']"
   ]
  },
  {
   "cell_type": "code",
   "execution_count": 52,
   "id": "86253be9",
   "metadata": {},
   "outputs": [
    {
     "data": {
      "text/plain": [
       "numpy.int32"
      ]
     },
     "execution_count": 52,
     "metadata": {},
     "output_type": "execute_result"
    }
   ],
   "source": [
    "type(t.loc['a', 'W'])"
   ]
  },
  {
   "cell_type": "code",
   "execution_count": 54,
   "id": "67d8bd34",
   "metadata": {},
   "outputs": [
    {
     "data": {
      "text/plain": [
       "W    0\n",
       "X    1\n",
       "Y    2\n",
       "Z    3\n",
       "Name: a, dtype: int32"
      ]
     },
     "execution_count": 54,
     "metadata": {},
     "output_type": "execute_result"
    }
   ],
   "source": [
    "t.loc['a', :]  # 取一行"
   ]
  },
  {
   "cell_type": "code",
   "execution_count": 55,
   "id": "0ed5630e",
   "metadata": {},
   "outputs": [
    {
     "data": {
      "text/html": [
       "<div>\n",
       "<style scoped>\n",
       "    .dataframe tbody tr th:only-of-type {\n",
       "        vertical-align: middle;\n",
       "    }\n",
       "\n",
       "    .dataframe tbody tr th {\n",
       "        vertical-align: top;\n",
       "    }\n",
       "\n",
       "    .dataframe thead th {\n",
       "        text-align: right;\n",
       "    }\n",
       "</style>\n",
       "<table border=\"1\" class=\"dataframe\">\n",
       "  <thead>\n",
       "    <tr style=\"text-align: right;\">\n",
       "      <th></th>\n",
       "      <th>W</th>\n",
       "      <th>X</th>\n",
       "      <th>Y</th>\n",
       "      <th>Z</th>\n",
       "    </tr>\n",
       "  </thead>\n",
       "  <tbody>\n",
       "    <tr>\n",
       "      <th>a</th>\n",
       "      <td>0</td>\n",
       "      <td>1</td>\n",
       "      <td>2</td>\n",
       "      <td>3</td>\n",
       "    </tr>\n",
       "    <tr>\n",
       "      <th>c</th>\n",
       "      <td>8</td>\n",
       "      <td>9</td>\n",
       "      <td>10</td>\n",
       "      <td>11</td>\n",
       "    </tr>\n",
       "  </tbody>\n",
       "</table>\n",
       "</div>"
      ],
      "text/plain": [
       "   W  X   Y   Z\n",
       "a  0  1   2   3\n",
       "c  8  9  10  11"
      ]
     },
     "execution_count": 55,
     "metadata": {},
     "output_type": "execute_result"
    }
   ],
   "source": [
    "t.loc[['a', 'c'], :]"
   ]
  },
  {
   "cell_type": "code",
   "execution_count": 56,
   "id": "f50818b0",
   "metadata": {},
   "outputs": [
    {
     "data": {
      "text/html": [
       "<div>\n",
       "<style scoped>\n",
       "    .dataframe tbody tr th:only-of-type {\n",
       "        vertical-align: middle;\n",
       "    }\n",
       "\n",
       "    .dataframe tbody tr th {\n",
       "        vertical-align: top;\n",
       "    }\n",
       "\n",
       "    .dataframe thead th {\n",
       "        text-align: right;\n",
       "    }\n",
       "</style>\n",
       "<table border=\"1\" class=\"dataframe\">\n",
       "  <thead>\n",
       "    <tr style=\"text-align: right;\">\n",
       "      <th></th>\n",
       "      <th>W</th>\n",
       "      <th>X</th>\n",
       "      <th>Y</th>\n",
       "      <th>Z</th>\n",
       "    </tr>\n",
       "  </thead>\n",
       "  <tbody>\n",
       "    <tr>\n",
       "      <th>a</th>\n",
       "      <td>0</td>\n",
       "      <td>1</td>\n",
       "      <td>2</td>\n",
       "      <td>3</td>\n",
       "    </tr>\n",
       "    <tr>\n",
       "      <th>b</th>\n",
       "      <td>4</td>\n",
       "      <td>5</td>\n",
       "      <td>6</td>\n",
       "      <td>7</td>\n",
       "    </tr>\n",
       "    <tr>\n",
       "      <th>c</th>\n",
       "      <td>8</td>\n",
       "      <td>9</td>\n",
       "      <td>10</td>\n",
       "      <td>11</td>\n",
       "    </tr>\n",
       "  </tbody>\n",
       "</table>\n",
       "</div>"
      ],
      "text/plain": [
       "   W  X   Y   Z\n",
       "a  0  1   2   3\n",
       "b  4  5   6   7\n",
       "c  8  9  10  11"
      ]
     },
     "execution_count": 56,
     "metadata": {},
     "output_type": "execute_result"
    }
   ],
   "source": [
    "t.loc['a':'c', :]"
   ]
  },
  {
   "cell_type": "code",
   "execution_count": 57,
   "id": "68ab9d65",
   "metadata": {},
   "outputs": [
    {
     "data": {
      "text/html": [
       "<div>\n",
       "<style scoped>\n",
       "    .dataframe tbody tr th:only-of-type {\n",
       "        vertical-align: middle;\n",
       "    }\n",
       "\n",
       "    .dataframe tbody tr th {\n",
       "        vertical-align: top;\n",
       "    }\n",
       "\n",
       "    .dataframe thead th {\n",
       "        text-align: right;\n",
       "    }\n",
       "</style>\n",
       "<table border=\"1\" class=\"dataframe\">\n",
       "  <thead>\n",
       "    <tr style=\"text-align: right;\">\n",
       "      <th></th>\n",
       "      <th>W</th>\n",
       "      <th>X</th>\n",
       "      <th>Y</th>\n",
       "      <th>Z</th>\n",
       "    </tr>\n",
       "  </thead>\n",
       "  <tbody>\n",
       "    <tr>\n",
       "      <th>a</th>\n",
       "      <td>0</td>\n",
       "      <td>1</td>\n",
       "      <td>2</td>\n",
       "      <td>3</td>\n",
       "    </tr>\n",
       "    <tr>\n",
       "      <th>b</th>\n",
       "      <td>4</td>\n",
       "      <td>5</td>\n",
       "      <td>6</td>\n",
       "      <td>7</td>\n",
       "    </tr>\n",
       "  </tbody>\n",
       "</table>\n",
       "</div>"
      ],
      "text/plain": [
       "   W  X  Y  Z\n",
       "a  0  1  2  3\n",
       "b  4  5  6  7"
      ]
     },
     "execution_count": 57,
     "metadata": {},
     "output_type": "execute_result"
    }
   ],
   "source": [
    "t.iloc[0:2, :]"
   ]
  },
  {
   "cell_type": "code",
   "execution_count": 58,
   "id": "84ddbd32",
   "metadata": {},
   "outputs": [
    {
     "data": {
      "text/html": [
       "<div>\n",
       "<style scoped>\n",
       "    .dataframe tbody tr th:only-of-type {\n",
       "        vertical-align: middle;\n",
       "    }\n",
       "\n",
       "    .dataframe tbody tr th {\n",
       "        vertical-align: top;\n",
       "    }\n",
       "\n",
       "    .dataframe thead th {\n",
       "        text-align: right;\n",
       "    }\n",
       "</style>\n",
       "<table border=\"1\" class=\"dataframe\">\n",
       "  <thead>\n",
       "    <tr style=\"text-align: right;\">\n",
       "      <th></th>\n",
       "      <th>Y</th>\n",
       "    </tr>\n",
       "  </thead>\n",
       "  <tbody>\n",
       "    <tr>\n",
       "      <th>b</th>\n",
       "      <td>6</td>\n",
       "    </tr>\n",
       "  </tbody>\n",
       "</table>\n",
       "</div>"
      ],
      "text/plain": [
       "   Y\n",
       "b  6"
      ]
     },
     "execution_count": 58,
     "metadata": {},
     "output_type": "execute_result"
    }
   ],
   "source": [
    "t.iloc[1:2, 2:3]"
   ]
  },
  {
   "cell_type": "markdown",
   "id": "b910e3ec",
   "metadata": {},
   "source": [
    "## pandas布尔索引"
   ]
  },
  {
   "cell_type": "code",
   "execution_count": 59,
   "id": "48c566b5",
   "metadata": {},
   "outputs": [
    {
     "data": {
      "text/html": [
       "<div>\n",
       "<style scoped>\n",
       "    .dataframe tbody tr th:only-of-type {\n",
       "        vertical-align: middle;\n",
       "    }\n",
       "\n",
       "    .dataframe tbody tr th {\n",
       "        vertical-align: top;\n",
       "    }\n",
       "\n",
       "    .dataframe thead th {\n",
       "        text-align: right;\n",
       "    }\n",
       "</style>\n",
       "<table border=\"1\" class=\"dataframe\">\n",
       "  <thead>\n",
       "    <tr style=\"text-align: right;\">\n",
       "      <th></th>\n",
       "      <th>W</th>\n",
       "      <th>X</th>\n",
       "      <th>Y</th>\n",
       "      <th>Z</th>\n",
       "    </tr>\n",
       "  </thead>\n",
       "  <tbody>\n",
       "    <tr>\n",
       "      <th>b</th>\n",
       "      <td>4</td>\n",
       "      <td>5</td>\n",
       "      <td>6</td>\n",
       "      <td>7</td>\n",
       "    </tr>\n",
       "    <tr>\n",
       "      <th>c</th>\n",
       "      <td>8</td>\n",
       "      <td>9</td>\n",
       "      <td>10</td>\n",
       "      <td>11</td>\n",
       "    </tr>\n",
       "  </tbody>\n",
       "</table>\n",
       "</div>"
      ],
      "text/plain": [
       "   W  X   Y   Z\n",
       "b  4  5   6   7\n",
       "c  8  9  10  11"
      ]
     },
     "execution_count": 59,
     "metadata": {},
     "output_type": "execute_result"
    }
   ],
   "source": [
    "t[t[\"Y\"] > 2]"
   ]
  },
  {
   "cell_type": "code",
   "execution_count": 62,
   "id": "29a44d45",
   "metadata": {},
   "outputs": [
    {
     "data": {
      "text/html": [
       "<div>\n",
       "<style scoped>\n",
       "    .dataframe tbody tr th:only-of-type {\n",
       "        vertical-align: middle;\n",
       "    }\n",
       "\n",
       "    .dataframe tbody tr th {\n",
       "        vertical-align: top;\n",
       "    }\n",
       "\n",
       "    .dataframe thead th {\n",
       "        text-align: right;\n",
       "    }\n",
       "</style>\n",
       "<table border=\"1\" class=\"dataframe\">\n",
       "  <thead>\n",
       "    <tr style=\"text-align: right;\">\n",
       "      <th></th>\n",
       "      <th>W</th>\n",
       "      <th>X</th>\n",
       "      <th>Y</th>\n",
       "      <th>Z</th>\n",
       "    </tr>\n",
       "  </thead>\n",
       "  <tbody>\n",
       "    <tr>\n",
       "      <th>b</th>\n",
       "      <td>4</td>\n",
       "      <td>5</td>\n",
       "      <td>6</td>\n",
       "      <td>7</td>\n",
       "    </tr>\n",
       "  </tbody>\n",
       "</table>\n",
       "</div>"
      ],
      "text/plain": [
       "   W  X  Y  Z\n",
       "b  4  5  6  7"
      ]
     },
     "execution_count": 62,
     "metadata": {},
     "output_type": "execute_result"
    }
   ],
   "source": [
    "t[ (t[\"Y\"] > 2) & (t['Y'] < 8)]\n",
    "\n",
    "# & 且   | 或 \n",
    "# 每一个条件需要使用()括起来"
   ]
  },
  {
   "attachments": {
    "image.png": {
     "image/png": "[encoded data removed]"
    }
   },
   "cell_type": "markdown",
   "id": "f7e70b61",
   "metadata": {},
   "source": [
    "## 字符串操作\n",
    "\n",
    "![image.png](attachment:image.png)"
   ]
  },
  {
   "cell_type": "markdown",
   "id": "0e2d8199",
   "metadata": {},
   "source": [
    "## 缺失值处理"
   ]
  },
  {
   "cell_type": "code",
   "execution_count": 65,
   "id": "cc4409ea",
   "metadata": {},
   "outputs": [
    {
     "data": {
      "text/html": [
       "<div>\n",
       "<style scoped>\n",
       "    .dataframe tbody tr th:only-of-type {\n",
       "        vertical-align: middle;\n",
       "    }\n",
       "\n",
       "    .dataframe tbody tr th {\n",
       "        vertical-align: top;\n",
       "    }\n",
       "\n",
       "    .dataframe thead th {\n",
       "        text-align: right;\n",
       "    }\n",
       "</style>\n",
       "<table border=\"1\" class=\"dataframe\">\n",
       "  <thead>\n",
       "    <tr style=\"text-align: right;\">\n",
       "      <th></th>\n",
       "      <th>RNCID_1</th>\n",
       "      <th>CellID_1</th>\n",
       "      <th>SignalLevel_1</th>\n",
       "      <th>RSSI_1</th>\n",
       "      <th>SignalLevel_2</th>\n",
       "      <th>RSSI_2</th>\n",
       "      <th>SignalLevel_3</th>\n",
       "      <th>RSSI_3</th>\n",
       "      <th>SignalLevel_4</th>\n",
       "      <th>RSSI_4</th>\n",
       "      <th>SignalLevel_5</th>\n",
       "      <th>RSSI_5</th>\n",
       "      <th>SignalLevel_6</th>\n",
       "      <th>RSSI_6</th>\n",
       "      <th>SignalLevel_7</th>\n",
       "      <th>RSSI_7</th>\n",
       "      <th>LinkNum</th>\n",
       "      <th>Longitude</th>\n",
       "      <th>Latitude</th>\n",
       "    </tr>\n",
       "  </thead>\n",
       "  <tbody>\n",
       "    <tr>\n",
       "      <th>0</th>\n",
       "      <td>6188</td>\n",
       "      <td>26051</td>\n",
       "      <td>4</td>\n",
       "      <td>-59</td>\n",
       "      <td>3</td>\n",
       "      <td>-93</td>\n",
       "      <td>4.0</td>\n",
       "      <td>-77.0</td>\n",
       "      <td>4.0</td>\n",
       "      <td>-89.0</td>\n",
       "      <td>3.0</td>\n",
       "      <td>-97.0</td>\n",
       "      <td>3.0</td>\n",
       "      <td>-95.0</td>\n",
       "      <td>3.0</td>\n",
       "      <td>-95.0</td>\n",
       "      <td>7</td>\n",
       "      <td>121.213563</td>\n",
       "      <td>31.291798</td>\n",
       "    </tr>\n",
       "    <tr>\n",
       "      <th>1</th>\n",
       "      <td>6188</td>\n",
       "      <td>26051</td>\n",
       "      <td>4</td>\n",
       "      <td>-59</td>\n",
       "      <td>3</td>\n",
       "      <td>-91</td>\n",
       "      <td>4.0</td>\n",
       "      <td>-75.0</td>\n",
       "      <td>4.0</td>\n",
       "      <td>-89.0</td>\n",
       "      <td>3.0</td>\n",
       "      <td>-97.0</td>\n",
       "      <td>3.0</td>\n",
       "      <td>-95.0</td>\n",
       "      <td>3.0</td>\n",
       "      <td>-95.0</td>\n",
       "      <td>7</td>\n",
       "      <td>121.213563</td>\n",
       "      <td>31.291798</td>\n",
       "    </tr>\n",
       "    <tr>\n",
       "      <th>2</th>\n",
       "      <td>6188</td>\n",
       "      <td>26051</td>\n",
       "      <td>4</td>\n",
       "      <td>-57</td>\n",
       "      <td>4</td>\n",
       "      <td>-89</td>\n",
       "      <td>4.0</td>\n",
       "      <td>-71.0</td>\n",
       "      <td>3.0</td>\n",
       "      <td>-91.0</td>\n",
       "      <td>2.0</td>\n",
       "      <td>-99.0</td>\n",
       "      <td>3.0</td>\n",
       "      <td>-95.0</td>\n",
       "      <td>3.0</td>\n",
       "      <td>-97.0</td>\n",
       "      <td>7</td>\n",
       "      <td>121.213602</td>\n",
       "      <td>31.291850</td>\n",
       "    </tr>\n",
       "    <tr>\n",
       "      <th>3</th>\n",
       "      <td>6188</td>\n",
       "      <td>26051</td>\n",
       "      <td>4</td>\n",
       "      <td>-51</td>\n",
       "      <td>4</td>\n",
       "      <td>-85</td>\n",
       "      <td>4.0</td>\n",
       "      <td>-71.0</td>\n",
       "      <td>3.0</td>\n",
       "      <td>-91.0</td>\n",
       "      <td>3.0</td>\n",
       "      <td>-95.0</td>\n",
       "      <td>3.0</td>\n",
       "      <td>-97.0</td>\n",
       "      <td>NaN</td>\n",
       "      <td>NaN</td>\n",
       "      <td>6</td>\n",
       "      <td>121.213631</td>\n",
       "      <td>31.291835</td>\n",
       "    </tr>\n",
       "    <tr>\n",
       "      <th>4</th>\n",
       "      <td>6188</td>\n",
       "      <td>26051</td>\n",
       "      <td>4</td>\n",
       "      <td>-51</td>\n",
       "      <td>4</td>\n",
       "      <td>-75</td>\n",
       "      <td>4.0</td>\n",
       "      <td>-71.0</td>\n",
       "      <td>4.0</td>\n",
       "      <td>-83.0</td>\n",
       "      <td>3.0</td>\n",
       "      <td>-91.0</td>\n",
       "      <td>4.0</td>\n",
       "      <td>-89.0</td>\n",
       "      <td>NaN</td>\n",
       "      <td>NaN</td>\n",
       "      <td>6</td>\n",
       "      <td>121.213594</td>\n",
       "      <td>31.291856</td>\n",
       "    </tr>\n",
       "  </tbody>\n",
       "</table>\n",
       "</div>"
      ],
      "text/plain": [
       "   RNCID_1  CellID_1  SignalLevel_1  RSSI_1  SignalLevel_2  RSSI_2  \\\n",
       "0     6188     26051              4     -59              3     -93   \n",
       "1     6188     26051              4     -59              3     -91   \n",
       "2     6188     26051              4     -57              4     -89   \n",
       "3     6188     26051              4     -51              4     -85   \n",
       "4     6188     26051              4     -51              4     -75   \n",
       "\n",
       "   SignalLevel_3  RSSI_3  SignalLevel_4  RSSI_4  SignalLevel_5  RSSI_5  \\\n",
       "0            4.0   -77.0            4.0   -89.0            3.0   -97.0   \n",
       "1            4.0   -75.0            4.0   -89.0            3.0   -97.0   \n",
       "2            4.0   -71.0            3.0   -91.0            2.0   -99.0   \n",
       "3            4.0   -71.0            3.0   -91.0            3.0   -95.0   \n",
       "4            4.0   -71.0            4.0   -83.0            3.0   -91.0   \n",
       "\n",
       "   SignalLevel_6  RSSI_6  SignalLevel_7  RSSI_7  LinkNum   Longitude  \\\n",
       "0            3.0   -95.0            3.0   -95.0        7  121.213563   \n",
       "1            3.0   -95.0            3.0   -95.0        7  121.213563   \n",
       "2            3.0   -95.0            3.0   -97.0        7  121.213602   \n",
       "3            3.0   -97.0            NaN     NaN        6  121.213631   \n",
       "4            4.0   -89.0            NaN     NaN        6  121.213594   \n",
       "\n",
       "    Latitude  \n",
       "0  31.291798  \n",
       "1  31.291798  \n",
       "2  31.291850  \n",
       "3  31.291835  \n",
       "4  31.291856  "
      ]
     },
     "execution_count": 65,
     "metadata": {},
     "output_type": "execute_result"
    }
   ],
   "source": [
    "data = pd.read_csv(\"./data/2G_data.csv\")\n",
    "data = data.head()\n",
    "data"
   ]
  },
  {
   "cell_type": "code",
   "execution_count": 66,
   "id": "718395de",
   "metadata": {},
   "outputs": [
    {
     "data": {
      "text/html": [
       "<div>\n",
       "<style scoped>\n",
       "    .dataframe tbody tr th:only-of-type {\n",
       "        vertical-align: middle;\n",
       "    }\n",
       "\n",
       "    .dataframe tbody tr th {\n",
       "        vertical-align: top;\n",
       "    }\n",
       "\n",
       "    .dataframe thead th {\n",
       "        text-align: right;\n",
       "    }\n",
       "</style>\n",
       "<table border=\"1\" class=\"dataframe\">\n",
       "  <thead>\n",
       "    <tr style=\"text-align: right;\">\n",
       "      <th></th>\n",
       "      <th>RNCID_1</th>\n",
       "      <th>CellID_1</th>\n",
       "      <th>SignalLevel_1</th>\n",
       "      <th>RSSI_1</th>\n",
       "      <th>SignalLevel_2</th>\n",
       "      <th>RSSI_2</th>\n",
       "      <th>SignalLevel_3</th>\n",
       "      <th>RSSI_3</th>\n",
       "      <th>SignalLevel_4</th>\n",
       "      <th>RSSI_4</th>\n",
       "      <th>SignalLevel_5</th>\n",
       "      <th>RSSI_5</th>\n",
       "      <th>SignalLevel_6</th>\n",
       "      <th>RSSI_6</th>\n",
       "      <th>SignalLevel_7</th>\n",
       "      <th>RSSI_7</th>\n",
       "      <th>LinkNum</th>\n",
       "      <th>Longitude</th>\n",
       "      <th>Latitude</th>\n",
       "    </tr>\n",
       "  </thead>\n",
       "  <tbody>\n",
       "    <tr>\n",
       "      <th>0</th>\n",
       "      <td>False</td>\n",
       "      <td>False</td>\n",
       "      <td>False</td>\n",
       "      <td>False</td>\n",
       "      <td>False</td>\n",
       "      <td>False</td>\n",
       "      <td>False</td>\n",
       "      <td>False</td>\n",
       "      <td>False</td>\n",
       "      <td>False</td>\n",
       "      <td>False</td>\n",
       "      <td>False</td>\n",
       "      <td>False</td>\n",
       "      <td>False</td>\n",
       "      <td>False</td>\n",
       "      <td>False</td>\n",
       "      <td>False</td>\n",
       "      <td>False</td>\n",
       "      <td>False</td>\n",
       "    </tr>\n",
       "    <tr>\n",
       "      <th>1</th>\n",
       "      <td>False</td>\n",
       "      <td>False</td>\n",
       "      <td>False</td>\n",
       "      <td>False</td>\n",
       "      <td>False</td>\n",
       "      <td>False</td>\n",
       "      <td>False</td>\n",
       "      <td>False</td>\n",
       "      <td>False</td>\n",
       "      <td>False</td>\n",
       "      <td>False</td>\n",
       "      <td>False</td>\n",
       "      <td>False</td>\n",
       "      <td>False</td>\n",
       "      <td>False</td>\n",
       "      <td>False</td>\n",
       "      <td>False</td>\n",
       "      <td>False</td>\n",
       "      <td>False</td>\n",
       "    </tr>\n",
       "    <tr>\n",
       "      <th>2</th>\n",
       "      <td>False</td>\n",
       "      <td>False</td>\n",
       "      <td>False</td>\n",
       "      <td>False</td>\n",
       "      <td>False</td>\n",
       "      <td>False</td>\n",
       "      <td>False</td>\n",
       "      <td>False</td>\n",
       "      <td>False</td>\n",
       "      <td>False</td>\n",
       "      <td>False</td>\n",
       "      <td>False</td>\n",
       "      <td>False</td>\n",
       "      <td>False</td>\n",
       "      <td>False</td>\n",
       "      <td>False</td>\n",
       "      <td>False</td>\n",
       "      <td>False</td>\n",
       "      <td>False</td>\n",
       "    </tr>\n",
       "    <tr>\n",
       "      <th>3</th>\n",
       "      <td>False</td>\n",
       "      <td>False</td>\n",
       "      <td>False</td>\n",
       "      <td>False</td>\n",
       "      <td>False</td>\n",
       "      <td>False</td>\n",
       "      <td>False</td>\n",
       "      <td>False</td>\n",
       "      <td>False</td>\n",
       "      <td>False</td>\n",
       "      <td>False</td>\n",
       "      <td>False</td>\n",
       "      <td>False</td>\n",
       "      <td>False</td>\n",
       "      <td>True</td>\n",
       "      <td>True</td>\n",
       "      <td>False</td>\n",
       "      <td>False</td>\n",
       "      <td>False</td>\n",
       "    </tr>\n",
       "    <tr>\n",
       "      <th>4</th>\n",
       "      <td>False</td>\n",
       "      <td>False</td>\n",
       "      <td>False</td>\n",
       "      <td>False</td>\n",
       "      <td>False</td>\n",
       "      <td>False</td>\n",
       "      <td>False</td>\n",
       "      <td>False</td>\n",
       "      <td>False</td>\n",
       "      <td>False</td>\n",
       "      <td>False</td>\n",
       "      <td>False</td>\n",
       "      <td>False</td>\n",
       "      <td>False</td>\n",
       "      <td>True</td>\n",
       "      <td>True</td>\n",
       "      <td>False</td>\n",
       "      <td>False</td>\n",
       "      <td>False</td>\n",
       "    </tr>\n",
       "  </tbody>\n",
       "</table>\n",
       "</div>"
      ],
      "text/plain": [
       "   RNCID_1  CellID_1  SignalLevel_1  RSSI_1  SignalLevel_2  RSSI_2  \\\n",
       "0    False     False          False   False          False   False   \n",
       "1    False     False          False   False          False   False   \n",
       "2    False     False          False   False          False   False   \n",
       "3    False     False          False   False          False   False   \n",
       "4    False     False          False   False          False   False   \n",
       "\n",
       "   SignalLevel_3  RSSI_3  SignalLevel_4  RSSI_4  SignalLevel_5  RSSI_5  \\\n",
       "0          False   False          False   False          False   False   \n",
       "1          False   False          False   False          False   False   \n",
       "2          False   False          False   False          False   False   \n",
       "3          False   False          False   False          False   False   \n",
       "4          False   False          False   False          False   False   \n",
       "\n",
       "   SignalLevel_6  RSSI_6  SignalLevel_7  RSSI_7  LinkNum  Longitude  Latitude  \n",
       "0          False   False          False   False    False      False     False  \n",
       "1          False   False          False   False    False      False     False  \n",
       "2          False   False          False   False    False      False     False  \n",
       "3          False   False           True    True    False      False     False  \n",
       "4          False   False           True    True    False      False     False  "
      ]
     },
     "execution_count": 66,
     "metadata": {},
     "output_type": "execute_result"
    }
   ],
   "source": [
    "pd.isnull(data)  # pd.notnull()"
   ]
  },
  {
   "cell_type": "code",
   "execution_count": 68,
   "id": "8afda174",
   "metadata": {},
   "outputs": [
    {
     "data": {
      "text/plain": [
       "0     True\n",
       "1     True\n",
       "2     True\n",
       "3    False\n",
       "4    False\n",
       "Name: RSSI_7, dtype: bool"
      ]
     },
     "execution_count": 68,
     "metadata": {},
     "output_type": "execute_result"
    }
   ],
   "source": [
    "pd.notnull(data['RSSI_7'])"
   ]
  },
  {
   "cell_type": "code",
   "execution_count": 73,
   "id": "72537ff9",
   "metadata": {},
   "outputs": [
    {
     "name": "stdout",
     "output_type": "stream",
     "text": [
      "     W  X   Y   Z\n",
      "a  NaN  1   2   3\n",
      "b  4.0  5   6   7\n",
      "c  8.0  9  10  11\n"
     ]
    }
   ],
   "source": [
    "# 处理缺失数据\n",
    "t = pd.DataFrame(np.arange(12).reshape(3,4), index=list('abc'), columns=list('WXYZ'))\n",
    "t.loc['a', 'W'] = np.nan\n",
    "print(t)"
   ]
  },
  {
   "cell_type": "code",
   "execution_count": 75,
   "id": "d0ffccbc",
   "metadata": {},
   "outputs": [
    {
     "data": {
      "text/html": [
       "<div>\n",
       "<style scoped>\n",
       "    .dataframe tbody tr th:only-of-type {\n",
       "        vertical-align: middle;\n",
       "    }\n",
       "\n",
       "    .dataframe tbody tr th {\n",
       "        vertical-align: top;\n",
       "    }\n",
       "\n",
       "    .dataframe thead th {\n",
       "        text-align: right;\n",
       "    }\n",
       "</style>\n",
       "<table border=\"1\" class=\"dataframe\">\n",
       "  <thead>\n",
       "    <tr style=\"text-align: right;\">\n",
       "      <th></th>\n",
       "      <th>W</th>\n",
       "      <th>X</th>\n",
       "      <th>Y</th>\n",
       "      <th>Z</th>\n",
       "    </tr>\n",
       "  </thead>\n",
       "  <tbody>\n",
       "    <tr>\n",
       "      <th>b</th>\n",
       "      <td>4.0</td>\n",
       "      <td>5</td>\n",
       "      <td>6</td>\n",
       "      <td>7</td>\n",
       "    </tr>\n",
       "    <tr>\n",
       "      <th>c</th>\n",
       "      <td>8.0</td>\n",
       "      <td>9</td>\n",
       "      <td>10</td>\n",
       "      <td>11</td>\n",
       "    </tr>\n",
       "  </tbody>\n",
       "</table>\n",
       "</div>"
      ],
      "text/plain": [
       "     W  X   Y   Z\n",
       "b  4.0  5   6   7\n",
       "c  8.0  9  10  11"
      ]
     },
     "execution_count": 75,
     "metadata": {},
     "output_type": "execute_result"
    }
   ],
   "source": [
    "# 删除含有缺失值的行\n",
    "t.dropna(axis=0, how='any')  # 只要有nan就删除这一行"
   ]
  },
  {
   "cell_type": "code",
   "execution_count": 76,
   "id": "79cbde42",
   "metadata": {},
   "outputs": [
    {
     "data": {
      "text/html": [
       "<div>\n",
       "<style scoped>\n",
       "    .dataframe tbody tr th:only-of-type {\n",
       "        vertical-align: middle;\n",
       "    }\n",
       "\n",
       "    .dataframe tbody tr th {\n",
       "        vertical-align: top;\n",
       "    }\n",
       "\n",
       "    .dataframe thead th {\n",
       "        text-align: right;\n",
       "    }\n",
       "</style>\n",
       "<table border=\"1\" class=\"dataframe\">\n",
       "  <thead>\n",
       "    <tr style=\"text-align: right;\">\n",
       "      <th></th>\n",
       "      <th>W</th>\n",
       "      <th>X</th>\n",
       "      <th>Y</th>\n",
       "      <th>Z</th>\n",
       "    </tr>\n",
       "  </thead>\n",
       "  <tbody>\n",
       "    <tr>\n",
       "      <th>a</th>\n",
       "      <td>NaN</td>\n",
       "      <td>1</td>\n",
       "      <td>2</td>\n",
       "      <td>3</td>\n",
       "    </tr>\n",
       "    <tr>\n",
       "      <th>b</th>\n",
       "      <td>4.0</td>\n",
       "      <td>5</td>\n",
       "      <td>6</td>\n",
       "      <td>7</td>\n",
       "    </tr>\n",
       "    <tr>\n",
       "      <th>c</th>\n",
       "      <td>8.0</td>\n",
       "      <td>9</td>\n",
       "      <td>10</td>\n",
       "      <td>11</td>\n",
       "    </tr>\n",
       "  </tbody>\n",
       "</table>\n",
       "</div>"
      ],
      "text/plain": [
       "     W  X   Y   Z\n",
       "a  NaN  1   2   3\n",
       "b  4.0  5   6   7\n",
       "c  8.0  9  10  11"
      ]
     },
     "execution_count": 76,
     "metadata": {},
     "output_type": "execute_result"
    }
   ],
   "source": [
    "# 删除缺失数据\n",
    "t.dropna(axis=0, how='all')  # 所有为nan才删除这一行"
   ]
  },
  {
   "cell_type": "code",
   "execution_count": 79,
   "id": "1459c547",
   "metadata": {},
   "outputs": [
    {
     "name": "stdout",
     "output_type": "stream",
     "text": [
      "     W  X   Y   Z\n",
      "b  4.0  5   6   7\n",
      "c  8.0  9  10  11\n"
     ]
    }
   ],
   "source": [
    "# 替换    inplace=True覆盖替换\n",
    "t.dropna(axis=0, how='any', inplace=True)\n",
    "print(t)"
   ]
  },
  {
   "cell_type": "code",
   "execution_count": 80,
   "id": "37cd11b2",
   "metadata": {},
   "outputs": [
    {
     "name": "stdout",
     "output_type": "stream",
     "text": [
      "     W  X   Y   Z\n",
      "a  NaN  1   2   3\n",
      "b  4.0  5   6   7\n",
      "c  8.0  9  10  11\n"
     ]
    }
   ],
   "source": [
    "t = pd.DataFrame(np.arange(12).reshape(3,4), index=list('abc'), columns=list('WXYZ'))\n",
    "t.loc['a', 'W'] = np.nan\n",
    "print(t)"
   ]
  },
  {
   "cell_type": "code",
   "execution_count": 82,
   "id": "2edd9e02",
   "metadata": {},
   "outputs": [
    {
     "data": {
      "text/html": [
       "<div>\n",
       "<style scoped>\n",
       "    .dataframe tbody tr th:only-of-type {\n",
       "        vertical-align: middle;\n",
       "    }\n",
       "\n",
       "    .dataframe tbody tr th {\n",
       "        vertical-align: top;\n",
       "    }\n",
       "\n",
       "    .dataframe thead th {\n",
       "        text-align: right;\n",
       "    }\n",
       "</style>\n",
       "<table border=\"1\" class=\"dataframe\">\n",
       "  <thead>\n",
       "    <tr style=\"text-align: right;\">\n",
       "      <th></th>\n",
       "      <th>W</th>\n",
       "      <th>X</th>\n",
       "      <th>Y</th>\n",
       "      <th>Z</th>\n",
       "    </tr>\n",
       "  </thead>\n",
       "  <tbody>\n",
       "    <tr>\n",
       "      <th>a</th>\n",
       "      <td>100.0</td>\n",
       "      <td>1</td>\n",
       "      <td>2</td>\n",
       "      <td>3</td>\n",
       "    </tr>\n",
       "    <tr>\n",
       "      <th>b</th>\n",
       "      <td>4.0</td>\n",
       "      <td>5</td>\n",
       "      <td>6</td>\n",
       "      <td>7</td>\n",
       "    </tr>\n",
       "    <tr>\n",
       "      <th>c</th>\n",
       "      <td>8.0</td>\n",
       "      <td>9</td>\n",
       "      <td>10</td>\n",
       "      <td>11</td>\n",
       "    </tr>\n",
       "  </tbody>\n",
       "</table>\n",
       "</div>"
      ],
      "text/plain": [
       "       W  X   Y   Z\n",
       "a  100.0  1   2   3\n",
       "b    4.0  5   6   7\n",
       "c    8.0  9  10  11"
      ]
     },
     "execution_count": 82,
     "metadata": {},
     "output_type": "execute_result"
    }
   ],
   "source": [
    "# 填充数据\n",
    "t.fillna(100)"
   ]
  },
  {
   "cell_type": "code",
   "execution_count": 83,
   "id": "381c12e2",
   "metadata": {},
   "outputs": [
    {
     "data": {
      "text/html": [
       "<div>\n",
       "<style scoped>\n",
       "    .dataframe tbody tr th:only-of-type {\n",
       "        vertical-align: middle;\n",
       "    }\n",
       "\n",
       "    .dataframe tbody tr th {\n",
       "        vertical-align: top;\n",
       "    }\n",
       "\n",
       "    .dataframe thead th {\n",
       "        text-align: right;\n",
       "    }\n",
       "</style>\n",
       "<table border=\"1\" class=\"dataframe\">\n",
       "  <thead>\n",
       "    <tr style=\"text-align: right;\">\n",
       "      <th></th>\n",
       "      <th>W</th>\n",
       "      <th>X</th>\n",
       "      <th>Y</th>\n",
       "      <th>Z</th>\n",
       "    </tr>\n",
       "  </thead>\n",
       "  <tbody>\n",
       "    <tr>\n",
       "      <th>a</th>\n",
       "      <td>6.0</td>\n",
       "      <td>1</td>\n",
       "      <td>2</td>\n",
       "      <td>3</td>\n",
       "    </tr>\n",
       "    <tr>\n",
       "      <th>b</th>\n",
       "      <td>4.0</td>\n",
       "      <td>5</td>\n",
       "      <td>6</td>\n",
       "      <td>7</td>\n",
       "    </tr>\n",
       "    <tr>\n",
       "      <th>c</th>\n",
       "      <td>8.0</td>\n",
       "      <td>9</td>\n",
       "      <td>10</td>\n",
       "      <td>11</td>\n",
       "    </tr>\n",
       "  </tbody>\n",
       "</table>\n",
       "</div>"
      ],
      "text/plain": [
       "     W  X   Y   Z\n",
       "a  6.0  1   2   3\n",
       "b  4.0  5   6   7\n",
       "c  8.0  9  10  11"
      ]
     },
     "execution_count": 83,
     "metadata": {},
     "output_type": "execute_result"
    }
   ],
   "source": [
    "# 填充数据\n",
    "t.fillna(t.mean())"
   ]
  },
  {
   "cell_type": "code",
   "execution_count": 84,
   "id": "e5efa942",
   "metadata": {},
   "outputs": [
    {
     "data": {
      "text/plain": [
       "a    100.0\n",
       "b      4.0\n",
       "c      8.0\n",
       "Name: W, dtype: float64"
      ]
     },
     "execution_count": 84,
     "metadata": {},
     "output_type": "execute_result"
    }
   ],
   "source": [
    "t['W'].fillna(100)"
   ]
  },
  {
   "cell_type": "code",
   "execution_count": 86,
   "id": "170a7d9e",
   "metadata": {},
   "outputs": [
    {
     "data": {
      "text/html": [
       "<div>\n",
       "<style scoped>\n",
       "    .dataframe tbody tr th:only-of-type {\n",
       "        vertical-align: middle;\n",
       "    }\n",
       "\n",
       "    .dataframe tbody tr th {\n",
       "        vertical-align: top;\n",
       "    }\n",
       "\n",
       "    .dataframe thead th {\n",
       "        text-align: right;\n",
       "    }\n",
       "</style>\n",
       "<table border=\"1\" class=\"dataframe\">\n",
       "  <thead>\n",
       "    <tr style=\"text-align: right;\">\n",
       "      <th></th>\n",
       "      <th>W</th>\n",
       "      <th>X</th>\n",
       "      <th>Y</th>\n",
       "      <th>Z</th>\n",
       "    </tr>\n",
       "  </thead>\n",
       "  <tbody>\n",
       "    <tr>\n",
       "      <th>a</th>\n",
       "      <td>100.0</td>\n",
       "      <td>1</td>\n",
       "      <td>2</td>\n",
       "      <td>3</td>\n",
       "    </tr>\n",
       "    <tr>\n",
       "      <th>b</th>\n",
       "      <td>4.0</td>\n",
       "      <td>5</td>\n",
       "      <td>6</td>\n",
       "      <td>7</td>\n",
       "    </tr>\n",
       "    <tr>\n",
       "      <th>c</th>\n",
       "      <td>8.0</td>\n",
       "      <td>9</td>\n",
       "      <td>10</td>\n",
       "      <td>11</td>\n",
       "    </tr>\n",
       "  </tbody>\n",
       "</table>\n",
       "</div>"
      ],
      "text/plain": [
       "       W  X   Y   Z\n",
       "a  100.0  1   2   3\n",
       "b    4.0  5   6   7\n",
       "c    8.0  9  10  11"
      ]
     },
     "execution_count": 86,
     "metadata": {},
     "output_type": "execute_result"
    }
   ],
   "source": [
    "# 填充之后再赋值给原来的值\n",
    "t['W'] =  t['W'].fillna(100)\n",
    "t"
   ]
  },
  {
   "cell_type": "code",
   "execution_count": 88,
   "id": "bf59daec",
   "metadata": {},
   "outputs": [
    {
     "name": "stdout",
     "output_type": "stream",
     "text": [
      "     W  X   Y   Z\n",
      "a  NaN  1   2   3\n",
      "b  4.0  5   6   7\n",
      "c  8.0  9  10  11\n"
     ]
    }
   ],
   "source": [
    "t.loc['a', 'W'] = np.nan\n",
    "print(t)"
   ]
  },
  {
   "cell_type": "code",
   "execution_count": 89,
   "id": "66ae2573",
   "metadata": {},
   "outputs": [
    {
     "data": {
      "text/plain": [
       "6.0"
      ]
     },
     "execution_count": 89,
     "metadata": {},
     "output_type": "execute_result"
    }
   ],
   "source": [
    "t['W'].mean()  # nan不会参与计算"
   ]
  },
  {
   "cell_type": "code",
   "execution_count": null,
   "id": "0423a02c",
   "metadata": {},
   "outputs": [],
   "source": [
    "# 处理0的数据 --->  0会参与计算，因为数据库中有些会有没有意义的默认值\n",
    "t[t==0] = np.nan"
   ]
  },
  {
   "cell_type": "markdown",
   "id": "66358f38",
   "metadata": {},
   "source": [
    "## 分类统计\n",
    "\n",
    "字符串离散化进行统计"
   ]
  },
  {
   "cell_type": "code",
   "execution_count": 96,
   "id": "81d9cde7",
   "metadata": {},
   "outputs": [
    {
     "data": {
      "text/html": [
       "<div>\n",
       "<style scoped>\n",
       "    .dataframe tbody tr th:only-of-type {\n",
       "        vertical-align: middle;\n",
       "    }\n",
       "\n",
       "    .dataframe tbody tr th {\n",
       "        vertical-align: top;\n",
       "    }\n",
       "\n",
       "    .dataframe thead th {\n",
       "        text-align: right;\n",
       "    }\n",
       "</style>\n",
       "<table border=\"1\" class=\"dataframe\">\n",
       "  <thead>\n",
       "    <tr style=\"text-align: right;\">\n",
       "      <th></th>\n",
       "      <th>char</th>\n",
       "      <th>str</th>\n",
       "    </tr>\n",
       "  </thead>\n",
       "  <tbody>\n",
       "    <tr>\n",
       "      <th>0</th>\n",
       "      <td>str</td>\n",
       "      <td>str</td>\n",
       "    </tr>\n",
       "    <tr>\n",
       "      <th>1</th>\n",
       "      <td>str</td>\n",
       "      <td>char</td>\n",
       "    </tr>\n",
       "  </tbody>\n",
       "</table>\n",
       "</div>"
      ],
      "text/plain": [
       "  char   str\n",
       "0  str   str\n",
       "1  str  char"
      ]
     },
     "execution_count": 96,
     "metadata": {},
     "output_type": "execute_result"
    }
   ],
   "source": [
    "df = pd.DataFrame([['str', 'str'],['str', 'char']], columns=['char', 'str'])\n",
    "\n",
    "df"
   ]
  },
  {
   "cell_type": "code",
   "execution_count": 97,
   "id": "1155618f",
   "metadata": {},
   "outputs": [
    {
     "data": {
      "text/plain": [
       "['s', 'a', 'r', 't', 'h', 'c']"
      ]
     },
     "execution_count": 97,
     "metadata": {},
     "output_type": "execute_result"
    }
   ],
   "source": [
    "genre_list = list(set([i for j in df for i in j]))\n",
    "genre_list"
   ]
  },
  {
   "cell_type": "code",
   "execution_count": 98,
   "id": "290f10ac",
   "metadata": {},
   "outputs": [
    {
     "data": {
      "text/html": [
       "<div>\n",
       "<style scoped>\n",
       "    .dataframe tbody tr th:only-of-type {\n",
       "        vertical-align: middle;\n",
       "    }\n",
       "\n",
       "    .dataframe tbody tr th {\n",
       "        vertical-align: top;\n",
       "    }\n",
       "\n",
       "    .dataframe thead th {\n",
       "        text-align: right;\n",
       "    }\n",
       "</style>\n",
       "<table border=\"1\" class=\"dataframe\">\n",
       "  <thead>\n",
       "    <tr style=\"text-align: right;\">\n",
       "      <th></th>\n",
       "      <th>s</th>\n",
       "      <th>a</th>\n",
       "      <th>r</th>\n",
       "      <th>t</th>\n",
       "      <th>h</th>\n",
       "      <th>c</th>\n",
       "    </tr>\n",
       "  </thead>\n",
       "  <tbody>\n",
       "    <tr>\n",
       "      <th>0</th>\n",
       "      <td>0.0</td>\n",
       "      <td>0.0</td>\n",
       "      <td>0.0</td>\n",
       "      <td>0.0</td>\n",
       "      <td>0.0</td>\n",
       "      <td>0.0</td>\n",
       "    </tr>\n",
       "    <tr>\n",
       "      <th>1</th>\n",
       "      <td>0.0</td>\n",
       "      <td>0.0</td>\n",
       "      <td>0.0</td>\n",
       "      <td>0.0</td>\n",
       "      <td>0.0</td>\n",
       "      <td>0.0</td>\n",
       "    </tr>\n",
       "  </tbody>\n",
       "</table>\n",
       "</div>"
      ],
      "text/plain": [
       "     s    a    r    t    h    c\n",
       "0  0.0  0.0  0.0  0.0  0.0  0.0\n",
       "1  0.0  0.0  0.0  0.0  0.0  0.0"
      ]
     },
     "execution_count": 98,
     "metadata": {},
     "output_type": "execute_result"
    }
   ],
   "source": [
    "# 构造全为0的数组\n",
    "zeros_df = pd.DataFrame(np.zeros((df.shape[0], len(genre_list))), columns=genre_list)\n",
    "zeros_df"
   ]
  },
  {
   "cell_type": "code",
   "execution_count": 104,
   "id": "dbfb07ca",
   "metadata": {},
   "outputs": [
    {
     "name": "stdout",
     "output_type": "stream",
     "text": [
      "     s    a    r    t    h    c\n",
      "0  1.0  0.0  0.0  0.0  0.0  0.0\n",
      "1  0.0  1.0  0.0  0.0  0.0  0.0\n"
     ]
    }
   ],
   "source": [
    "# 给每个出现的分类赋值为1\n",
    "for i in range(df.shape[0]):\n",
    "    zeros_df.loc[i, genre_list[i]] = 1.0\n",
    "print(zeros_df)"
   ]
  },
  {
   "cell_type": "code",
   "execution_count": 105,
   "id": "1091b663",
   "metadata": {},
   "outputs": [
    {
     "data": {
      "text/plain": [
       "s    2\n",
       "a    2\n",
       "r    2\n",
       "t    2\n",
       "h    2\n",
       "c    2\n",
       "dtype: int64"
      ]
     },
     "execution_count": 105,
     "metadata": {},
     "output_type": "execute_result"
    }
   ],
   "source": [
    "zeros_df.count()"
   ]
  },
  {
   "cell_type": "markdown",
   "id": "4324e2b8",
   "metadata": {},
   "source": [
    "## 数据合并和分组聚合  join"
   ]
  },
  {
   "cell_type": "code",
   "execution_count": 112,
   "id": "d96da036",
   "metadata": {},
   "outputs": [
    {
     "name": "stdout",
     "output_type": "stream",
     "text": [
      "t1:\n",
      "    A  B   C   D\n",
      "a  0  1   2   3\n",
      "b  4  5   6   7\n",
      "c  8  9  10  11\n",
      "t2:\n",
      "    X  Y  Z\n",
      "b  0  1  2\n",
      "c  3  4  5\n"
     ]
    }
   ],
   "source": [
    "# join：把行索引相同的数据合并在一起\n",
    "t1 = pd.DataFrame(np.arange(12).reshape(3, 4), index=list(\"abc\"), columns=list(\"ABCD\"))\n",
    "t2 = pd.DataFrame(np.arange(6).reshape(2, 3), index=list(\"bc\"), columns=list(\"XYZ\"))\n",
    "print(\"t1:\\n\", t1)\n",
    "print(\"t2:\\n\", t2)"
   ]
  },
  {
   "cell_type": "code",
   "execution_count": 113,
   "id": "b42dfa60",
   "metadata": {},
   "outputs": [
    {
     "data": {
      "text/html": [
       "<div>\n",
       "<style scoped>\n",
       "    .dataframe tbody tr th:only-of-type {\n",
       "        vertical-align: middle;\n",
       "    }\n",
       "\n",
       "    .dataframe tbody tr th {\n",
       "        vertical-align: top;\n",
       "    }\n",
       "\n",
       "    .dataframe thead th {\n",
       "        text-align: right;\n",
       "    }\n",
       "</style>\n",
       "<table border=\"1\" class=\"dataframe\">\n",
       "  <thead>\n",
       "    <tr style=\"text-align: right;\">\n",
       "      <th></th>\n",
       "      <th>A</th>\n",
       "      <th>B</th>\n",
       "      <th>C</th>\n",
       "      <th>D</th>\n",
       "      <th>X</th>\n",
       "      <th>Y</th>\n",
       "      <th>Z</th>\n",
       "    </tr>\n",
       "  </thead>\n",
       "  <tbody>\n",
       "    <tr>\n",
       "      <th>a</th>\n",
       "      <td>0</td>\n",
       "      <td>1</td>\n",
       "      <td>2</td>\n",
       "      <td>3</td>\n",
       "      <td>NaN</td>\n",
       "      <td>NaN</td>\n",
       "      <td>NaN</td>\n",
       "    </tr>\n",
       "    <tr>\n",
       "      <th>b</th>\n",
       "      <td>4</td>\n",
       "      <td>5</td>\n",
       "      <td>6</td>\n",
       "      <td>7</td>\n",
       "      <td>0.0</td>\n",
       "      <td>1.0</td>\n",
       "      <td>2.0</td>\n",
       "    </tr>\n",
       "    <tr>\n",
       "      <th>c</th>\n",
       "      <td>8</td>\n",
       "      <td>9</td>\n",
       "      <td>10</td>\n",
       "      <td>11</td>\n",
       "      <td>3.0</td>\n",
       "      <td>4.0</td>\n",
       "      <td>5.0</td>\n",
       "    </tr>\n",
       "  </tbody>\n",
       "</table>\n",
       "</div>"
      ],
      "text/plain": [
       "   A  B   C   D    X    Y    Z\n",
       "a  0  1   2   3  NaN  NaN  NaN\n",
       "b  4  5   6   7  0.0  1.0  2.0\n",
       "c  8  9  10  11  3.0  4.0  5.0"
      ]
     },
     "execution_count": 113,
     "metadata": {},
     "output_type": "execute_result"
    }
   ],
   "source": [
    "t1.join(t2)  # 行相同的进行合并，列索引不能存在相同的"
   ]
  },
  {
   "cell_type": "markdown",
   "id": "8e646c4b",
   "metadata": {},
   "source": [
    "## merge"
   ]
  },
  {
   "cell_type": "code",
   "execution_count": 121,
   "id": "4d3e4792",
   "metadata": {},
   "outputs": [
    {
     "data": {
      "text/html": [
       "<div>\n",
       "<style scoped>\n",
       "    .dataframe tbody tr th:only-of-type {\n",
       "        vertical-align: middle;\n",
       "    }\n",
       "\n",
       "    .dataframe tbody tr th {\n",
       "        vertical-align: top;\n",
       "    }\n",
       "\n",
       "    .dataframe thead th {\n",
       "        text-align: right;\n",
       "    }\n",
       "</style>\n",
       "<table border=\"1\" class=\"dataframe\">\n",
       "  <thead>\n",
       "    <tr style=\"text-align: right;\">\n",
       "      <th></th>\n",
       "      <th>A</th>\n",
       "      <th>C</th>\n",
       "      <th>D</th>\n",
       "    </tr>\n",
       "  </thead>\n",
       "  <tbody>\n",
       "    <tr>\n",
       "      <th>a</th>\n",
       "      <td>0</td>\n",
       "      <td>1</td>\n",
       "      <td>2</td>\n",
       "    </tr>\n",
       "    <tr>\n",
       "      <th>b</th>\n",
       "      <td>3</td>\n",
       "      <td>4</td>\n",
       "      <td>5</td>\n",
       "    </tr>\n",
       "  </tbody>\n",
       "</table>\n",
       "</div>"
      ],
      "text/plain": [
       "   A  C  D\n",
       "a  0  1  2\n",
       "b  3  4  5"
      ]
     },
     "execution_count": 121,
     "metadata": {},
     "output_type": "execute_result"
    }
   ],
   "source": [
    "# merge  按照列索引进行合并\n",
    "t3 = pd.DataFrame(np.arange(6).reshape(2, 3), index=list(\"ab\"), columns=list(\"ACD\"))\n",
    "t3"
   ]
  },
  {
   "cell_type": "code",
   "execution_count": 124,
   "id": "418f8930",
   "metadata": {},
   "outputs": [
    {
     "data": {
      "text/html": [
       "<div>\n",
       "<style scoped>\n",
       "    .dataframe tbody tr th:only-of-type {\n",
       "        vertical-align: middle;\n",
       "    }\n",
       "\n",
       "    .dataframe tbody tr th {\n",
       "        vertical-align: top;\n",
       "    }\n",
       "\n",
       "    .dataframe thead th {\n",
       "        text-align: right;\n",
       "    }\n",
       "</style>\n",
       "<table border=\"1\" class=\"dataframe\">\n",
       "  <thead>\n",
       "    <tr style=\"text-align: right;\">\n",
       "      <th></th>\n",
       "      <th>A</th>\n",
       "      <th>B</th>\n",
       "      <th>C_x</th>\n",
       "      <th>D_x</th>\n",
       "      <th>C_y</th>\n",
       "      <th>D_y</th>\n",
       "    </tr>\n",
       "  </thead>\n",
       "  <tbody>\n",
       "    <tr>\n",
       "      <th>0</th>\n",
       "      <td>0</td>\n",
       "      <td>1</td>\n",
       "      <td>2</td>\n",
       "      <td>3</td>\n",
       "      <td>1</td>\n",
       "      <td>2</td>\n",
       "    </tr>\n",
       "  </tbody>\n",
       "</table>\n",
       "</div>"
      ],
      "text/plain": [
       "   A  B  C_x  D_x  C_y  D_y\n",
       "0  0  1    2    3    1    2"
      ]
     },
     "execution_count": 124,
     "metadata": {},
     "output_type": "execute_result"
    }
   ],
   "source": [
    "t1.merge(t3, on=\"A\")  # on 默认取交集，内连接  A上相同的进行合并  默认内连接"
   ]
  },
  {
   "cell_type": "code",
   "execution_count": 125,
   "id": "71bdab85",
   "metadata": {},
   "outputs": [
    {
     "data": {
      "text/html": [
       "<div>\n",
       "<style scoped>\n",
       "    .dataframe tbody tr th:only-of-type {\n",
       "        vertical-align: middle;\n",
       "    }\n",
       "\n",
       "    .dataframe tbody tr th {\n",
       "        vertical-align: top;\n",
       "    }\n",
       "\n",
       "    .dataframe thead th {\n",
       "        text-align: right;\n",
       "    }\n",
       "</style>\n",
       "<table border=\"1\" class=\"dataframe\">\n",
       "  <thead>\n",
       "    <tr style=\"text-align: right;\">\n",
       "      <th></th>\n",
       "      <th>A</th>\n",
       "      <th>B</th>\n",
       "      <th>C_x</th>\n",
       "      <th>D_x</th>\n",
       "      <th>C_y</th>\n",
       "      <th>D_y</th>\n",
       "    </tr>\n",
       "  </thead>\n",
       "  <tbody>\n",
       "    <tr>\n",
       "      <th>0</th>\n",
       "      <td>0</td>\n",
       "      <td>1.0</td>\n",
       "      <td>2.0</td>\n",
       "      <td>3.0</td>\n",
       "      <td>1.0</td>\n",
       "      <td>2.0</td>\n",
       "    </tr>\n",
       "    <tr>\n",
       "      <th>1</th>\n",
       "      <td>4</td>\n",
       "      <td>5.0</td>\n",
       "      <td>6.0</td>\n",
       "      <td>7.0</td>\n",
       "      <td>NaN</td>\n",
       "      <td>NaN</td>\n",
       "    </tr>\n",
       "    <tr>\n",
       "      <th>2</th>\n",
       "      <td>8</td>\n",
       "      <td>9.0</td>\n",
       "      <td>10.0</td>\n",
       "      <td>11.0</td>\n",
       "      <td>NaN</td>\n",
       "      <td>NaN</td>\n",
       "    </tr>\n",
       "    <tr>\n",
       "      <th>3</th>\n",
       "      <td>3</td>\n",
       "      <td>NaN</td>\n",
       "      <td>NaN</td>\n",
       "      <td>NaN</td>\n",
       "      <td>4.0</td>\n",
       "      <td>5.0</td>\n",
       "    </tr>\n",
       "  </tbody>\n",
       "</table>\n",
       "</div>"
      ],
      "text/plain": [
       "   A    B   C_x   D_x  C_y  D_y\n",
       "0  0  1.0   2.0   3.0  1.0  2.0\n",
       "1  4  5.0   6.0   7.0  NaN  NaN\n",
       "2  8  9.0  10.0  11.0  NaN  NaN\n",
       "3  3  NaN   NaN   NaN  4.0  5.0"
      ]
     },
     "execution_count": 125,
     "metadata": {},
     "output_type": "execute_result"
    }
   ],
   "source": [
    "t1.merge(t3, on=\"A\",how='outer') # 外连接 "
   ]
  },
  {
   "cell_type": "code",
   "execution_count": 126,
   "id": "f57e413c",
   "metadata": {},
   "outputs": [
    {
     "data": {
      "text/html": [
       "<div>\n",
       "<style scoped>\n",
       "    .dataframe tbody tr th:only-of-type {\n",
       "        vertical-align: middle;\n",
       "    }\n",
       "\n",
       "    .dataframe tbody tr th {\n",
       "        vertical-align: top;\n",
       "    }\n",
       "\n",
       "    .dataframe thead th {\n",
       "        text-align: right;\n",
       "    }\n",
       "</style>\n",
       "<table border=\"1\" class=\"dataframe\">\n",
       "  <thead>\n",
       "    <tr style=\"text-align: right;\">\n",
       "      <th></th>\n",
       "      <th>A</th>\n",
       "      <th>B</th>\n",
       "      <th>C_x</th>\n",
       "      <th>D_x</th>\n",
       "      <th>C_y</th>\n",
       "      <th>D_y</th>\n",
       "    </tr>\n",
       "  </thead>\n",
       "  <tbody>\n",
       "    <tr>\n",
       "      <th>0</th>\n",
       "      <td>0</td>\n",
       "      <td>1</td>\n",
       "      <td>2</td>\n",
       "      <td>3</td>\n",
       "      <td>1.0</td>\n",
       "      <td>2.0</td>\n",
       "    </tr>\n",
       "    <tr>\n",
       "      <th>1</th>\n",
       "      <td>4</td>\n",
       "      <td>5</td>\n",
       "      <td>6</td>\n",
       "      <td>7</td>\n",
       "      <td>NaN</td>\n",
       "      <td>NaN</td>\n",
       "    </tr>\n",
       "    <tr>\n",
       "      <th>2</th>\n",
       "      <td>8</td>\n",
       "      <td>9</td>\n",
       "      <td>10</td>\n",
       "      <td>11</td>\n",
       "      <td>NaN</td>\n",
       "      <td>NaN</td>\n",
       "    </tr>\n",
       "  </tbody>\n",
       "</table>\n",
       "</div>"
      ],
      "text/plain": [
       "   A  B  C_x  D_x  C_y  D_y\n",
       "0  0  1    2    3  1.0  2.0\n",
       "1  4  5    6    7  NaN  NaN\n",
       "2  8  9   10   11  NaN  NaN"
      ]
     },
     "execution_count": 126,
     "metadata": {},
     "output_type": "execute_result"
    }
   ],
   "source": [
    "t1.merge(t3, on=\"A\",how='left') # 左连接 "
   ]
  },
  {
   "cell_type": "code",
   "execution_count": 128,
   "id": "d485b2b8",
   "metadata": {},
   "outputs": [
    {
     "data": {
      "text/html": [
       "<div>\n",
       "<style scoped>\n",
       "    .dataframe tbody tr th:only-of-type {\n",
       "        vertical-align: middle;\n",
       "    }\n",
       "\n",
       "    .dataframe tbody tr th {\n",
       "        vertical-align: top;\n",
       "    }\n",
       "\n",
       "    .dataframe thead th {\n",
       "        text-align: right;\n",
       "    }\n",
       "</style>\n",
       "<table border=\"1\" class=\"dataframe\">\n",
       "  <thead>\n",
       "    <tr style=\"text-align: right;\">\n",
       "      <th></th>\n",
       "      <th>A</th>\n",
       "      <th>B</th>\n",
       "      <th>C_x</th>\n",
       "      <th>D_x</th>\n",
       "      <th>C_y</th>\n",
       "      <th>D_y</th>\n",
       "    </tr>\n",
       "  </thead>\n",
       "  <tbody>\n",
       "    <tr>\n",
       "      <th>0</th>\n",
       "      <td>0</td>\n",
       "      <td>1.0</td>\n",
       "      <td>2.0</td>\n",
       "      <td>3.0</td>\n",
       "      <td>1</td>\n",
       "      <td>2</td>\n",
       "    </tr>\n",
       "    <tr>\n",
       "      <th>1</th>\n",
       "      <td>3</td>\n",
       "      <td>NaN</td>\n",
       "      <td>NaN</td>\n",
       "      <td>NaN</td>\n",
       "      <td>4</td>\n",
       "      <td>5</td>\n",
       "    </tr>\n",
       "  </tbody>\n",
       "</table>\n",
       "</div>"
      ],
      "text/plain": [
       "   A    B  C_x  D_x  C_y  D_y\n",
       "0  0  1.0  2.0  3.0    1    2\n",
       "1  3  NaN  NaN  NaN    4    5"
      ]
     },
     "execution_count": 128,
     "metadata": {},
     "output_type": "execute_result"
    }
   ],
   "source": [
    "t1.merge(t3, on=\"A\",how='right') # 右连接 "
   ]
  },
  {
   "cell_type": "markdown",
   "id": "7e72fdf7",
   "metadata": {},
   "source": [
    "## 分组 groupby"
   ]
  },
  {
   "cell_type": "code",
   "execution_count": 133,
   "id": "23445c06",
   "metadata": {},
   "outputs": [
    {
     "name": "stdout",
     "output_type": "stream",
     "text": [
      "<class 'pandas.core.frame.DataFrame'>\n",
      "RangeIndex: 102 entries, 0 to 101\n",
      "Data columns (total 19 columns):\n",
      " #   Column         Non-Null Count  Dtype  \n",
      "---  ------         --------------  -----  \n",
      " 0   RNCID_1        102 non-null    int64  \n",
      " 1   CellID_1       102 non-null    int64  \n",
      " 2   SignalLevel_1  102 non-null    int64  \n",
      " 3   RSSI_1         102 non-null    int64  \n",
      " 4   SignalLevel_2  102 non-null    int64  \n",
      " 5   RSSI_2         102 non-null    int64  \n",
      " 6   SignalLevel_3  100 non-null    float64\n",
      " 7   RSSI_3         100 non-null    float64\n",
      " 8   SignalLevel_4  98 non-null     float64\n",
      " 9   RSSI_4         98 non-null     float64\n",
      " 10  SignalLevel_5  92 non-null     float64\n",
      " 11  RSSI_5         92 non-null     float64\n",
      " 12  SignalLevel_6  79 non-null     float64\n",
      " 13  RSSI_6         79 non-null     float64\n",
      " 14  SignalLevel_7  47 non-null     float64\n",
      " 15  RSSI_7         47 non-null     float64\n",
      " 16  LinkNum        102 non-null    int64  \n",
      " 17  Longitude      102 non-null    float64\n",
      " 18  Latitude       102 non-null    float64\n",
      "dtypes: float64(12), int64(7)\n",
      "memory usage: 15.3 KB\n"
     ]
    }
   ],
   "source": [
    "data = pd.read_csv(\"./data/2G_data.csv\")\n",
    "data.info()"
   ]
  },
  {
   "cell_type": "code",
   "execution_count": 134,
   "id": "ea448ba5",
   "metadata": {},
   "outputs": [],
   "source": [
    "# 统计每种连接的数量  LinkNum\n",
    "groups = data.groupby(by=\"LinkNum\") # 结果是元组 (groupid,data)"
   ]
  },
  {
   "cell_type": "code",
   "execution_count": 137,
   "id": "921d7629",
   "metadata": {},
   "outputs": [
    {
     "data": {
      "text/html": [
       "<div>\n",
       "<style scoped>\n",
       "    .dataframe tbody tr th:only-of-type {\n",
       "        vertical-align: middle;\n",
       "    }\n",
       "\n",
       "    .dataframe tbody tr th {\n",
       "        vertical-align: top;\n",
       "    }\n",
       "\n",
       "    .dataframe thead th {\n",
       "        text-align: right;\n",
       "    }\n",
       "</style>\n",
       "<table border=\"1\" class=\"dataframe\">\n",
       "  <thead>\n",
       "    <tr style=\"text-align: right;\">\n",
       "      <th></th>\n",
       "      <th>RNCID_1</th>\n",
       "      <th>CellID_1</th>\n",
       "      <th>SignalLevel_1</th>\n",
       "      <th>RSSI_1</th>\n",
       "      <th>SignalLevel_2</th>\n",
       "      <th>RSSI_2</th>\n",
       "      <th>SignalLevel_3</th>\n",
       "      <th>RSSI_3</th>\n",
       "      <th>SignalLevel_4</th>\n",
       "      <th>RSSI_4</th>\n",
       "      <th>SignalLevel_5</th>\n",
       "      <th>RSSI_5</th>\n",
       "      <th>SignalLevel_6</th>\n",
       "      <th>RSSI_6</th>\n",
       "      <th>SignalLevel_7</th>\n",
       "      <th>RSSI_7</th>\n",
       "      <th>Longitude</th>\n",
       "      <th>Latitude</th>\n",
       "    </tr>\n",
       "    <tr>\n",
       "      <th>LinkNum</th>\n",
       "      <th></th>\n",
       "      <th></th>\n",
       "      <th></th>\n",
       "      <th></th>\n",
       "      <th></th>\n",
       "      <th></th>\n",
       "      <th></th>\n",
       "      <th></th>\n",
       "      <th></th>\n",
       "      <th></th>\n",
       "      <th></th>\n",
       "      <th></th>\n",
       "      <th></th>\n",
       "      <th></th>\n",
       "      <th></th>\n",
       "      <th></th>\n",
       "      <th></th>\n",
       "      <th></th>\n",
       "    </tr>\n",
       "  </thead>\n",
       "  <tbody>\n",
       "    <tr>\n",
       "      <th>2</th>\n",
       "      <td>2</td>\n",
       "      <td>2</td>\n",
       "      <td>2</td>\n",
       "      <td>2</td>\n",
       "      <td>2</td>\n",
       "      <td>2</td>\n",
       "      <td>0</td>\n",
       "      <td>0</td>\n",
       "      <td>0</td>\n",
       "      <td>0</td>\n",
       "      <td>0</td>\n",
       "      <td>0</td>\n",
       "      <td>0</td>\n",
       "      <td>0</td>\n",
       "      <td>0</td>\n",
       "      <td>0</td>\n",
       "      <td>2</td>\n",
       "      <td>2</td>\n",
       "    </tr>\n",
       "    <tr>\n",
       "      <th>3</th>\n",
       "      <td>2</td>\n",
       "      <td>2</td>\n",
       "      <td>2</td>\n",
       "      <td>2</td>\n",
       "      <td>2</td>\n",
       "      <td>2</td>\n",
       "      <td>2</td>\n",
       "      <td>2</td>\n",
       "      <td>0</td>\n",
       "      <td>0</td>\n",
       "      <td>0</td>\n",
       "      <td>0</td>\n",
       "      <td>0</td>\n",
       "      <td>0</td>\n",
       "      <td>0</td>\n",
       "      <td>0</td>\n",
       "      <td>2</td>\n",
       "      <td>2</td>\n",
       "    </tr>\n",
       "    <tr>\n",
       "      <th>4</th>\n",
       "      <td>6</td>\n",
       "      <td>6</td>\n",
       "      <td>6</td>\n",
       "      <td>6</td>\n",
       "      <td>6</td>\n",
       "      <td>6</td>\n",
       "      <td>6</td>\n",
       "      <td>6</td>\n",
       "      <td>6</td>\n",
       "      <td>6</td>\n",
       "      <td>0</td>\n",
       "      <td>0</td>\n",
       "      <td>0</td>\n",
       "      <td>0</td>\n",
       "      <td>0</td>\n",
       "      <td>0</td>\n",
       "      <td>6</td>\n",
       "      <td>6</td>\n",
       "    </tr>\n",
       "    <tr>\n",
       "      <th>5</th>\n",
       "      <td>13</td>\n",
       "      <td>13</td>\n",
       "      <td>13</td>\n",
       "      <td>13</td>\n",
       "      <td>13</td>\n",
       "      <td>13</td>\n",
       "      <td>13</td>\n",
       "      <td>13</td>\n",
       "      <td>13</td>\n",
       "      <td>13</td>\n",
       "      <td>13</td>\n",
       "      <td>13</td>\n",
       "      <td>0</td>\n",
       "      <td>0</td>\n",
       "      <td>0</td>\n",
       "      <td>0</td>\n",
       "      <td>13</td>\n",
       "      <td>13</td>\n",
       "    </tr>\n",
       "    <tr>\n",
       "      <th>6</th>\n",
       "      <td>32</td>\n",
       "      <td>32</td>\n",
       "      <td>32</td>\n",
       "      <td>32</td>\n",
       "      <td>32</td>\n",
       "      <td>32</td>\n",
       "      <td>32</td>\n",
       "      <td>32</td>\n",
       "      <td>32</td>\n",
       "      <td>32</td>\n",
       "      <td>32</td>\n",
       "      <td>32</td>\n",
       "      <td>32</td>\n",
       "      <td>32</td>\n",
       "      <td>0</td>\n",
       "      <td>0</td>\n",
       "      <td>32</td>\n",
       "      <td>32</td>\n",
       "    </tr>\n",
       "    <tr>\n",
       "      <th>7</th>\n",
       "      <td>47</td>\n",
       "      <td>47</td>\n",
       "      <td>47</td>\n",
       "      <td>47</td>\n",
       "      <td>47</td>\n",
       "      <td>47</td>\n",
       "      <td>47</td>\n",
       "      <td>47</td>\n",
       "      <td>47</td>\n",
       "      <td>47</td>\n",
       "      <td>47</td>\n",
       "      <td>47</td>\n",
       "      <td>47</td>\n",
       "      <td>47</td>\n",
       "      <td>47</td>\n",
       "      <td>47</td>\n",
       "      <td>47</td>\n",
       "      <td>47</td>\n",
       "    </tr>\n",
       "  </tbody>\n",
       "</table>\n",
       "</div>"
      ],
      "text/plain": [
       "         RNCID_1  CellID_1  SignalLevel_1  RSSI_1  SignalLevel_2  RSSI_2  \\\n",
       "LinkNum                                                                    \n",
       "2              2         2              2       2              2       2   \n",
       "3              2         2              2       2              2       2   \n",
       "4              6         6              6       6              6       6   \n",
       "5             13        13             13      13             13      13   \n",
       "6             32        32             32      32             32      32   \n",
       "7             47        47             47      47             47      47   \n",
       "\n",
       "         SignalLevel_3  RSSI_3  SignalLevel_4  RSSI_4  SignalLevel_5  RSSI_5  \\\n",
       "LinkNum                                                                        \n",
       "2                    0       0              0       0              0       0   \n",
       "3                    2       2              0       0              0       0   \n",
       "4                    6       6              6       6              0       0   \n",
       "5                   13      13             13      13             13      13   \n",
       "6                   32      32             32      32             32      32   \n",
       "7                   47      47             47      47             47      47   \n",
       "\n",
       "         SignalLevel_6  RSSI_6  SignalLevel_7  RSSI_7  Longitude  Latitude  \n",
       "LinkNum                                                                     \n",
       "2                    0       0              0       0          2         2  \n",
       "3                    0       0              0       0          2         2  \n",
       "4                    0       0              0       0          6         6  \n",
       "5                    0       0              0       0         13        13  \n",
       "6                   32      32              0       0         32        32  \n",
       "7                   47      47             47      47         47        47  "
      ]
     },
     "execution_count": 137,
     "metadata": {},
     "output_type": "execute_result"
    }
   ],
   "source": [
    "# 分组统计数据\n",
    "groups.count()"
   ]
  },
  {
   "cell_type": "code",
   "execution_count": 139,
   "id": "49de59e2",
   "metadata": {},
   "outputs": [
    {
     "data": {
      "text/plain": [
       "LinkNum\n",
       "2     2\n",
       "3     2\n",
       "4     6\n",
       "5    13\n",
       "6    32\n",
       "7    47\n",
       "Name: RNCID_1, dtype: int64"
      ]
     },
     "execution_count": 139,
     "metadata": {},
     "output_type": "execute_result"
    }
   ],
   "source": [
    "# 具体某列上进行统计\n",
    "groups['RNCID_1'].count()"
   ]
  },
  {
   "cell_type": "code",
   "execution_count": 149,
   "id": "2845ef79",
   "metadata": {},
   "outputs": [
    {
     "data": {
      "text/plain": [
       "RNCID_1  CellID_1\n",
       "6188     20865       15\n",
       "         25105        9\n",
       "         26050        2\n",
       "         26051       40\n",
       "         27378       24\n",
       "         27395       12\n",
       "Name: RSSI_1, dtype: int64"
      ]
     },
     "execution_count": 149,
     "metadata": {},
     "output_type": "execute_result"
    }
   ],
   "source": [
    "group1 = data.groupby(['RNCID_1', 'CellID_1'])\n",
    "group1['RSSI_1'].count()  # 两列行索引  类型数Series\n",
    "\n",
    "# print(type(group1))  # <class 'pandas.core.groupby.generic.DataFrameGroupBy'>"
   ]
  },
  {
   "cell_type": "code",
   "execution_count": null,
   "id": "1084ec0a",
   "metadata": {},
   "outputs": [],
   "source": []
  },
  {
   "cell_type": "code",
   "execution_count": null,
   "id": "4de1fb19",
   "metadata": {},
   "outputs": [],
   "source": []
  },
  {
   "cell_type": "code",
   "execution_count": null,
   "id": "cf78fd45",
   "metadata": {},
   "outputs": [],
   "source": []
  },
  {
   "cell_type": "code",
   "execution_count": null,
   "id": "6169b347",
   "metadata": {},
   "outputs": [],
   "source": []
  },
  {
   "cell_type": "code",
   "execution_count": null,
   "id": "2932bf8d",
   "metadata": {},
   "outputs": [],
   "source": []
  },
  {
   "cell_type": "code",
   "execution_count": null,
   "id": "d856f107",
   "metadata": {},
   "outputs": [],
   "source": []
  }
 ],
 "metadata": {
  "kernelspec": {
   "display_name": "Python 3 (ipykernel)",
   "language": "python",
   "name": "python3"
  },
  "language_info": {
   "codemirror_mode": {
    "name": "ipython",
    "version": 3
   },
   "file_extension": ".py",
   "mimetype": "text/x-python",
   "name": "python",
   "nbconvert_exporter": "python",
   "pygments_lexer": "ipython3",
   "version": "3.7.11"
  }
 },
 "nbformat": 4,
 "nbformat_minor": 5
}
